{
 "cells": [
  {
   "cell_type": "markdown",
   "id": "a5913fce",
   "metadata": {},
   "source": [
    "**1. INTRODUCTION: MILESTONES 2**\n",
    "\n",
    "\n",
    "Nama : Tazqia Ranyanisha\n",
    "Batch : CODA-RMT-008 \n",
    "\n",
    "\n",
    "\n",
    "Program ini dibuat Program ini dibuat untuk menganalisis efektivitas campaign marketing digital berdasarkan data pelanggan, channel, dan performa iklan, sehingga bisa memberikan insight untuk meningkatkan strategi pemasaran dan konversi.\n",
    "\n",
    "Source data: https://www.kaggle.com/datasets/rabieelkharoua/predict-conversion-in-digital-marketing-dataset?utm\n",
    "\n",
    "Link tableau: https://public.tableau.com/app/profile/tazqia.ranyanisha/viz/P1M1_TazqiaRanyanisha_CampaignDashboard/Story1\n"
   ]
  },
  {
   "cell_type": "markdown",
   "id": "50a51260",
   "metadata": {},
   "source": [
    "**2.  IDENTIFIKASI PERMASALAHAN**\n",
    "\n",
    "**2.1 Latar Belakang**\n",
    "Perusahaan e-commerce ShopEZ menjual berbagai produk dan ingin meningkatkan penjualan selama bulan Juli - Desember 2025. Untuk mencapai tujuan ini, perusahaan menjalankan berbagai kampanye digital marketing melalui beberapa saluran: Social Media, Email Marketing, PPC, Affiliate/Influencer Program, dan SEO.\n",
    "\n",
    "**Setiap kampanye memiliki atribut penting:**\n",
    "1. Waktu klik campaign: ClickTimestamp\n",
    "2. Jenis kampanye: CampaignType (Awareness, Engagement, Conversion)\n",
    "3. Anggaran iklan: AdSpend\n",
    "4. Performa kampanye: CTR, Conversion Rate, WebsiteVisits, PagesPerVisit, TimeOnSite\n",
    "5. Respons pelanggan: SocialShares, EmailOpens, EmailClicks\n",
    "6. Data pelanggan: Age, Gender, Income, PreviousPurchases, LoyaltyPoints\n",
    "\n",
    "**Permasalahan:** Perusahaan ingin mengetahui saluran pemasaran mana yang paling efektif untuk meningkatkan konversi dan bagaimana menyesuaikan strategi kampanye dengan segmen pelanggan yang berbeda. Setelah mengetahui insight ini, perusahaan ingin mengaplikasikan strategi yang paling optimal pada Q3–Q4 2025 untuk memaksimalkan penjualan. Dengan budget yang meningkat, diminta untuk merealisasikan kampanye digital tersebut.\n",
    "\n",
    "**2.2 SMART Goal**\n",
    "1. Specific: Mengidentifikasi saluran kampanye dan segmen pelanggan yang memberikan Conversion Rate tertinggi, sehingga ShopEZ dapat menyesuaikan alokasi anggaran dan strategi kampanye digital secara tepat.\n",
    "2. Measurable: Target peningkatan Conversion Rate minimal 5% dibanding setahun sebelumnya\n",
    "(Source: Shopify Blog, di mana 5% dianggap rata-rata yang realistis).\n",
    "3. Achievable: Berdasarkan data historis pelanggan dan performa kampanye selama setahun sebelumnya, analisis dapat menentukan saluran dan platform yang paling efektif, serta budget marketing yang tersedia memadai untuk realisasi kampanye.\n",
    "4. Relevant: Strategi ini mendukung tujuan utama perusahaan untuk meningkatkan penjualan dan profitabilitas, sekaligus mengoptimalkan penggunaan anggaran marketing.\n",
    "5. Time-bound: Implementasi strategi di Q3–Q4 2025, dengan evaluasi hasil di akhir Desember 2025.\n",
    "\n",
    "**2.3 Analisis 5W + 1H**\n",
    "1. What – Apa saluran kampanye (CampaignChannel) yang memberikan Conversion Rate tertinggi?\n",
    "2. Who – Segmen pelanggan mana (berdasarkan Age, Gender, Income) yang paling responsif terhadap kampanye tertentu?\n",
    "3. When – Kapan periode kampanye paling efektif? Apakah di bulan tertentu (CampaignMonth) atau durasi kampanye tertentu?\n",
    "4. Which – Platform dan tool iklan mana yang paling efektif meningkatkan engagement dan conversion?\n",
    "5. How – Bagaimana cara mengoptimalkan anggaran (AdSpend) dan strategi kampanye untuk meningkatkan Conversion Rate?\n",
    "6. Predictive – Bagaimana memprediksi tingkat konversi (ConversionRate) berdasarkan variabel utama seperti AdSpend, ClickThroughRate, CampaignChannel?\n",
    "\n",
    "**2.4 Dataset description**\n",
    "\n",
    "**Dataset Description:** Dataset ini berisi informasi kampanye digital marketing ShopEZ dari Januari–Juni 2025, meliputi data pelanggan, performa kampanye, interaksi, dan hasil konversi.\n",
    "\n",
    "**Columns:**\n",
    "* `CustomerID`: ID unik pelanggan\n",
    "* `Age`: umur pelanggan\n",
    "* `Gender`: jenis kelamin pelanggan\n",
    "* `Income`: penghasilan pelanggan\n",
    "* `CampaignChannel`: saluran kampanye (Social Media, Email, PPC, Referral, SEO)\n",
    "* `CampaignType`: kategori yang menunjukkan tujuan utama kampanye digital, misalnya Awareness (mengenalkan brand), Engagement (meningkatkan interaksi), atau Conversion (mendorong pembelian).\n",
    "* `ClickTimestamp`: tanggal dimana user klik campaign\n",
    "* `AdSpend`: anggaran iklan per kampanye (in USD)\n",
    "* `IncomeGroup`: grup gaji pelanggan (in USD)\n",
    "* `ClickThroughRate`: rasio klik iklan\n",
    "* `ConversionRate`: rasio konversi kampanye\n",
    "* `WebsiteVisits`: jumlah kunjungan website\n",
    "* `PagesPerVisit`: halaman rata-rata yang dikunjungi\n",
    "* `TimeOnSite`: durasi rata-rata kunjungan\n",
    "* `SocialShares`: jumlah share sosial media\n",
    "* `EmailOpens` / `EmailClicks`: interaksi email\n",
    "* `PreviousPurchases`: jumlah pembelian sebelumnya\n",
    "* `LoyaltyPoints`: poin loyalitas pelanggan\n",
    "* `AdvertisingPlatform` / `AdvertisingTool`: platform & tools iklan yang digunakan\n",
    "* `Conversion`: indikator apakah kampanye menghasilkan konversi (1 = ya, 0 = tidak)\n"
   ]
  },
  {
   "cell_type": "markdown",
   "id": "595913fb",
   "metadata": {},
   "source": [
    "**3. DATA LOADING**"
   ]
  },
  {
   "cell_type": "code",
   "execution_count": 1,
   "id": "9db472bf",
   "metadata": {},
   "outputs": [],
   "source": [
    "#Import dataset\n",
    "import pandas as pd\n",
    "df = pd.read_csv(\"digital_marketing_campaign_dataset.csv\")"
   ]
  },
  {
   "cell_type": "code",
   "execution_count": 2,
   "id": "f05389f8",
   "metadata": {},
   "outputs": [
    {
     "data": {
      "text/html": [
       "<div>\n",
       "<style scoped>\n",
       "    .dataframe tbody tr th:only-of-type {\n",
       "        vertical-align: middle;\n",
       "    }\n",
       "\n",
       "    .dataframe tbody tr th {\n",
       "        vertical-align: top;\n",
       "    }\n",
       "\n",
       "    .dataframe thead th {\n",
       "        text-align: right;\n",
       "    }\n",
       "</style>\n",
       "<table border=\"1\" class=\"dataframe\">\n",
       "  <thead>\n",
       "    <tr style=\"text-align: right;\">\n",
       "      <th></th>\n",
       "      <th>CustomerID</th>\n",
       "      <th>Age</th>\n",
       "      <th>Gender</th>\n",
       "      <th>Income</th>\n",
       "      <th>CampaignChannel</th>\n",
       "      <th>CampaignType</th>\n",
       "      <th>AdSpend</th>\n",
       "      <th>ClickThroughRate</th>\n",
       "      <th>ConversionRate</th>\n",
       "      <th>WebsiteVisits</th>\n",
       "      <th>PagesPerVisit</th>\n",
       "      <th>TimeOnSite</th>\n",
       "      <th>SocialShares</th>\n",
       "      <th>EmailOpens</th>\n",
       "      <th>EmailClicks</th>\n",
       "      <th>PreviousPurchases</th>\n",
       "      <th>LoyaltyPoints</th>\n",
       "      <th>AdvertisingPlatform</th>\n",
       "      <th>AdvertisingTool</th>\n",
       "      <th>Conversion</th>\n",
       "    </tr>\n",
       "  </thead>\n",
       "  <tbody>\n",
       "    <tr>\n",
       "      <th>0</th>\n",
       "      <td>8000</td>\n",
       "      <td>56</td>\n",
       "      <td>Female</td>\n",
       "      <td>136912</td>\n",
       "      <td>Social Media</td>\n",
       "      <td>Awareness</td>\n",
       "      <td>6497.870068</td>\n",
       "      <td>0.043919</td>\n",
       "      <td>0.088031</td>\n",
       "      <td>0</td>\n",
       "      <td>2.399017</td>\n",
       "      <td>7.396803</td>\n",
       "      <td>19</td>\n",
       "      <td>6</td>\n",
       "      <td>9</td>\n",
       "      <td>4</td>\n",
       "      <td>688</td>\n",
       "      <td>IsConfid</td>\n",
       "      <td>ToolConfid</td>\n",
       "      <td>1</td>\n",
       "    </tr>\n",
       "    <tr>\n",
       "      <th>1</th>\n",
       "      <td>8001</td>\n",
       "      <td>69</td>\n",
       "      <td>Male</td>\n",
       "      <td>41760</td>\n",
       "      <td>Email</td>\n",
       "      <td>Retention</td>\n",
       "      <td>3898.668606</td>\n",
       "      <td>0.155725</td>\n",
       "      <td>0.182725</td>\n",
       "      <td>42</td>\n",
       "      <td>2.917138</td>\n",
       "      <td>5.352549</td>\n",
       "      <td>5</td>\n",
       "      <td>2</td>\n",
       "      <td>7</td>\n",
       "      <td>2</td>\n",
       "      <td>3459</td>\n",
       "      <td>IsConfid</td>\n",
       "      <td>ToolConfid</td>\n",
       "      <td>1</td>\n",
       "    </tr>\n",
       "    <tr>\n",
       "      <th>2</th>\n",
       "      <td>8002</td>\n",
       "      <td>46</td>\n",
       "      <td>Female</td>\n",
       "      <td>88456</td>\n",
       "      <td>PPC</td>\n",
       "      <td>Awareness</td>\n",
       "      <td>1546.429596</td>\n",
       "      <td>0.277490</td>\n",
       "      <td>0.076423</td>\n",
       "      <td>2</td>\n",
       "      <td>8.223619</td>\n",
       "      <td>13.794901</td>\n",
       "      <td>0</td>\n",
       "      <td>11</td>\n",
       "      <td>2</td>\n",
       "      <td>8</td>\n",
       "      <td>2337</td>\n",
       "      <td>IsConfid</td>\n",
       "      <td>ToolConfid</td>\n",
       "      <td>1</td>\n",
       "    </tr>\n",
       "    <tr>\n",
       "      <th>3</th>\n",
       "      <td>8003</td>\n",
       "      <td>32</td>\n",
       "      <td>Female</td>\n",
       "      <td>44085</td>\n",
       "      <td>PPC</td>\n",
       "      <td>Conversion</td>\n",
       "      <td>539.525936</td>\n",
       "      <td>0.137611</td>\n",
       "      <td>0.088004</td>\n",
       "      <td>47</td>\n",
       "      <td>4.540939</td>\n",
       "      <td>14.688363</td>\n",
       "      <td>89</td>\n",
       "      <td>2</td>\n",
       "      <td>2</td>\n",
       "      <td>0</td>\n",
       "      <td>2463</td>\n",
       "      <td>IsConfid</td>\n",
       "      <td>ToolConfid</td>\n",
       "      <td>1</td>\n",
       "    </tr>\n",
       "    <tr>\n",
       "      <th>4</th>\n",
       "      <td>8004</td>\n",
       "      <td>60</td>\n",
       "      <td>Female</td>\n",
       "      <td>83964</td>\n",
       "      <td>PPC</td>\n",
       "      <td>Conversion</td>\n",
       "      <td>1678.043573</td>\n",
       "      <td>0.252851</td>\n",
       "      <td>0.109940</td>\n",
       "      <td>0</td>\n",
       "      <td>2.046847</td>\n",
       "      <td>13.993370</td>\n",
       "      <td>6</td>\n",
       "      <td>6</td>\n",
       "      <td>6</td>\n",
       "      <td>8</td>\n",
       "      <td>4345</td>\n",
       "      <td>IsConfid</td>\n",
       "      <td>ToolConfid</td>\n",
       "      <td>1</td>\n",
       "    </tr>\n",
       "    <tr>\n",
       "      <th>5</th>\n",
       "      <td>8005</td>\n",
       "      <td>25</td>\n",
       "      <td>Female</td>\n",
       "      <td>42925</td>\n",
       "      <td>Social Media</td>\n",
       "      <td>Awareness</td>\n",
       "      <td>9579.388247</td>\n",
       "      <td>0.153795</td>\n",
       "      <td>0.161316</td>\n",
       "      <td>6</td>\n",
       "      <td>2.125850</td>\n",
       "      <td>7.752831</td>\n",
       "      <td>95</td>\n",
       "      <td>5</td>\n",
       "      <td>8</td>\n",
       "      <td>0</td>\n",
       "      <td>3316</td>\n",
       "      <td>IsConfid</td>\n",
       "      <td>ToolConfid</td>\n",
       "      <td>1</td>\n",
       "    </tr>\n",
       "    <tr>\n",
       "      <th>6</th>\n",
       "      <td>8006</td>\n",
       "      <td>38</td>\n",
       "      <td>Female</td>\n",
       "      <td>25615</td>\n",
       "      <td>Referral</td>\n",
       "      <td>Awareness</td>\n",
       "      <td>7302.899852</td>\n",
       "      <td>0.040975</td>\n",
       "      <td>0.060977</td>\n",
       "      <td>42</td>\n",
       "      <td>1.753995</td>\n",
       "      <td>10.698672</td>\n",
       "      <td>54</td>\n",
       "      <td>14</td>\n",
       "      <td>3</td>\n",
       "      <td>6</td>\n",
       "      <td>930</td>\n",
       "      <td>IsConfid</td>\n",
       "      <td>ToolConfid</td>\n",
       "      <td>1</td>\n",
       "    </tr>\n",
       "    <tr>\n",
       "      <th>7</th>\n",
       "      <td>8007</td>\n",
       "      <td>56</td>\n",
       "      <td>Female</td>\n",
       "      <td>57083</td>\n",
       "      <td>Social Media</td>\n",
       "      <td>Conversion</td>\n",
       "      <td>5324.283667</td>\n",
       "      <td>0.052878</td>\n",
       "      <td>0.188946</td>\n",
       "      <td>48</td>\n",
       "      <td>2.626015</td>\n",
       "      <td>2.987817</td>\n",
       "      <td>96</td>\n",
       "      <td>9</td>\n",
       "      <td>3</td>\n",
       "      <td>0</td>\n",
       "      <td>2983</td>\n",
       "      <td>IsConfid</td>\n",
       "      <td>ToolConfid</td>\n",
       "      <td>1</td>\n",
       "    </tr>\n",
       "    <tr>\n",
       "      <th>8</th>\n",
       "      <td>8008</td>\n",
       "      <td>36</td>\n",
       "      <td>Female</td>\n",
       "      <td>140788</td>\n",
       "      <td>Email</td>\n",
       "      <td>Retention</td>\n",
       "      <td>9421.250951</td>\n",
       "      <td>0.023536</td>\n",
       "      <td>0.112585</td>\n",
       "      <td>13</td>\n",
       "      <td>5.472843</td>\n",
       "      <td>14.287421</td>\n",
       "      <td>73</td>\n",
       "      <td>4</td>\n",
       "      <td>8</td>\n",
       "      <td>5</td>\n",
       "      <td>460</td>\n",
       "      <td>IsConfid</td>\n",
       "      <td>ToolConfid</td>\n",
       "      <td>1</td>\n",
       "    </tr>\n",
       "    <tr>\n",
       "      <th>9</th>\n",
       "      <td>8009</td>\n",
       "      <td>40</td>\n",
       "      <td>Male</td>\n",
       "      <td>130764</td>\n",
       "      <td>Social Media</td>\n",
       "      <td>Awareness</td>\n",
       "      <td>6229.193333</td>\n",
       "      <td>0.066641</td>\n",
       "      <td>0.169786</td>\n",
       "      <td>22</td>\n",
       "      <td>1.135665</td>\n",
       "      <td>4.613312</td>\n",
       "      <td>14</td>\n",
       "      <td>8</td>\n",
       "      <td>4</td>\n",
       "      <td>8</td>\n",
       "      <td>3789</td>\n",
       "      <td>IsConfid</td>\n",
       "      <td>ToolConfid</td>\n",
       "      <td>1</td>\n",
       "    </tr>\n",
       "  </tbody>\n",
       "</table>\n",
       "</div>"
      ],
      "text/plain": [
       "   CustomerID  Age  Gender  Income CampaignChannel CampaignType      AdSpend  \\\n",
       "0        8000   56  Female  136912    Social Media    Awareness  6497.870068   \n",
       "1        8001   69    Male   41760           Email    Retention  3898.668606   \n",
       "2        8002   46  Female   88456             PPC    Awareness  1546.429596   \n",
       "3        8003   32  Female   44085             PPC   Conversion   539.525936   \n",
       "4        8004   60  Female   83964             PPC   Conversion  1678.043573   \n",
       "5        8005   25  Female   42925    Social Media    Awareness  9579.388247   \n",
       "6        8006   38  Female   25615        Referral    Awareness  7302.899852   \n",
       "7        8007   56  Female   57083    Social Media   Conversion  5324.283667   \n",
       "8        8008   36  Female  140788           Email    Retention  9421.250951   \n",
       "9        8009   40    Male  130764    Social Media    Awareness  6229.193333   \n",
       "\n",
       "   ClickThroughRate  ConversionRate  WebsiteVisits  PagesPerVisit  TimeOnSite  \\\n",
       "0          0.043919        0.088031              0       2.399017    7.396803   \n",
       "1          0.155725        0.182725             42       2.917138    5.352549   \n",
       "2          0.277490        0.076423              2       8.223619   13.794901   \n",
       "3          0.137611        0.088004             47       4.540939   14.688363   \n",
       "4          0.252851        0.109940              0       2.046847   13.993370   \n",
       "5          0.153795        0.161316              6       2.125850    7.752831   \n",
       "6          0.040975        0.060977             42       1.753995   10.698672   \n",
       "7          0.052878        0.188946             48       2.626015    2.987817   \n",
       "8          0.023536        0.112585             13       5.472843   14.287421   \n",
       "9          0.066641        0.169786             22       1.135665    4.613312   \n",
       "\n",
       "   SocialShares  EmailOpens  EmailClicks  PreviousPurchases  LoyaltyPoints  \\\n",
       "0            19           6            9                  4            688   \n",
       "1             5           2            7                  2           3459   \n",
       "2             0          11            2                  8           2337   \n",
       "3            89           2            2                  0           2463   \n",
       "4             6           6            6                  8           4345   \n",
       "5            95           5            8                  0           3316   \n",
       "6            54          14            3                  6            930   \n",
       "7            96           9            3                  0           2983   \n",
       "8            73           4            8                  5            460   \n",
       "9            14           8            4                  8           3789   \n",
       "\n",
       "  AdvertisingPlatform AdvertisingTool  Conversion  \n",
       "0            IsConfid      ToolConfid           1  \n",
       "1            IsConfid      ToolConfid           1  \n",
       "2            IsConfid      ToolConfid           1  \n",
       "3            IsConfid      ToolConfid           1  \n",
       "4            IsConfid      ToolConfid           1  \n",
       "5            IsConfid      ToolConfid           1  \n",
       "6            IsConfid      ToolConfid           1  \n",
       "7            IsConfid      ToolConfid           1  \n",
       "8            IsConfid      ToolConfid           1  \n",
       "9            IsConfid      ToolConfid           1  "
      ]
     },
     "execution_count": 2,
     "metadata": {},
     "output_type": "execute_result"
    }
   ],
   "source": [
    "df.head(10)"
   ]
  },
  {
   "cell_type": "markdown",
   "id": "9143bade",
   "metadata": {},
   "source": [
    "**4. DATA CLEANING**"
   ]
  },
  {
   "cell_type": "code",
   "execution_count": 3,
   "id": "da0490cb",
   "metadata": {},
   "outputs": [
    {
     "name": "stdout",
     "output_type": "stream",
     "text": [
      "0   2024-12-28 23:16:37\n",
      "1   2025-04-10 04:42:42\n",
      "2   2025-02-23 12:04:23\n",
      "3   2024-09-19 08:54:02\n",
      "4   2025-03-11 02:37:25\n",
      "Name: ClickTimestamp, dtype: datetime64[ns]\n"
     ]
    }
   ],
   "source": [
    "#Dikarenakan masih ada data yang kurang seperti ClickTimestamp, \n",
    "# #Saya akan menginput data Clicktimestamp terlebih dahulu\n",
    "import pandas as pd\n",
    "import numpy as np\n",
    "\n",
    "# Contoh jika df sudah ada\n",
    "n = len(df)\n",
    "\n",
    "# Rentang waktu\n",
    "start_date = pd.to_datetime('2024-06-01')\n",
    "end_date = pd.to_datetime('2025-06-30')\n",
    "\n",
    "# Generate random timestamp (dalam detik)\n",
    "random_seconds = np.random.randint(\n",
    "    0, int((end_date - start_date).total_seconds()), size=n\n",
    ")\n",
    "\n",
    "# Buat kolom waktu klik campaign\n",
    "df['ClickTimestamp'] = start_date + pd.to_timedelta(random_seconds, unit='s')\n",
    "\n",
    "# Cek hasil\n",
    "print(df['ClickTimestamp'].head())\n"
   ]
  },
  {
   "cell_type": "code",
   "execution_count": 4,
   "id": "b3cb82c2",
   "metadata": {},
   "outputs": [
    {
     "data": {
      "text/html": [
       "<div>\n",
       "<style scoped>\n",
       "    .dataframe tbody tr th:only-of-type {\n",
       "        vertical-align: middle;\n",
       "    }\n",
       "\n",
       "    .dataframe tbody tr th {\n",
       "        vertical-align: top;\n",
       "    }\n",
       "\n",
       "    .dataframe thead th {\n",
       "        text-align: right;\n",
       "    }\n",
       "</style>\n",
       "<table border=\"1\" class=\"dataframe\">\n",
       "  <thead>\n",
       "    <tr style=\"text-align: right;\">\n",
       "      <th></th>\n",
       "      <th>CustomerID</th>\n",
       "      <th>Age</th>\n",
       "      <th>Gender</th>\n",
       "      <th>Income</th>\n",
       "      <th>CampaignChannel</th>\n",
       "      <th>CampaignType</th>\n",
       "      <th>AdSpend</th>\n",
       "      <th>ClickThroughRate</th>\n",
       "      <th>ConversionRate</th>\n",
       "      <th>WebsiteVisits</th>\n",
       "      <th>...</th>\n",
       "      <th>TimeOnSite</th>\n",
       "      <th>SocialShares</th>\n",
       "      <th>EmailOpens</th>\n",
       "      <th>EmailClicks</th>\n",
       "      <th>PreviousPurchases</th>\n",
       "      <th>LoyaltyPoints</th>\n",
       "      <th>AdvertisingPlatform</th>\n",
       "      <th>AdvertisingTool</th>\n",
       "      <th>Conversion</th>\n",
       "      <th>ClickTimestamp</th>\n",
       "    </tr>\n",
       "  </thead>\n",
       "  <tbody>\n",
       "    <tr>\n",
       "      <th>0</th>\n",
       "      <td>8000</td>\n",
       "      <td>56</td>\n",
       "      <td>Female</td>\n",
       "      <td>136912</td>\n",
       "      <td>Social Media</td>\n",
       "      <td>Awareness</td>\n",
       "      <td>6497.870068</td>\n",
       "      <td>0.043919</td>\n",
       "      <td>0.088031</td>\n",
       "      <td>0</td>\n",
       "      <td>...</td>\n",
       "      <td>7.396803</td>\n",
       "      <td>19</td>\n",
       "      <td>6</td>\n",
       "      <td>9</td>\n",
       "      <td>4</td>\n",
       "      <td>688</td>\n",
       "      <td>IsConfid</td>\n",
       "      <td>ToolConfid</td>\n",
       "      <td>1</td>\n",
       "      <td>2024-12-28 23:16:37</td>\n",
       "    </tr>\n",
       "    <tr>\n",
       "      <th>1</th>\n",
       "      <td>8001</td>\n",
       "      <td>69</td>\n",
       "      <td>Male</td>\n",
       "      <td>41760</td>\n",
       "      <td>Email</td>\n",
       "      <td>Retention</td>\n",
       "      <td>3898.668606</td>\n",
       "      <td>0.155725</td>\n",
       "      <td>0.182725</td>\n",
       "      <td>42</td>\n",
       "      <td>...</td>\n",
       "      <td>5.352549</td>\n",
       "      <td>5</td>\n",
       "      <td>2</td>\n",
       "      <td>7</td>\n",
       "      <td>2</td>\n",
       "      <td>3459</td>\n",
       "      <td>IsConfid</td>\n",
       "      <td>ToolConfid</td>\n",
       "      <td>1</td>\n",
       "      <td>2025-04-10 04:42:42</td>\n",
       "    </tr>\n",
       "    <tr>\n",
       "      <th>2</th>\n",
       "      <td>8002</td>\n",
       "      <td>46</td>\n",
       "      <td>Female</td>\n",
       "      <td>88456</td>\n",
       "      <td>PPC</td>\n",
       "      <td>Awareness</td>\n",
       "      <td>1546.429596</td>\n",
       "      <td>0.277490</td>\n",
       "      <td>0.076423</td>\n",
       "      <td>2</td>\n",
       "      <td>...</td>\n",
       "      <td>13.794901</td>\n",
       "      <td>0</td>\n",
       "      <td>11</td>\n",
       "      <td>2</td>\n",
       "      <td>8</td>\n",
       "      <td>2337</td>\n",
       "      <td>IsConfid</td>\n",
       "      <td>ToolConfid</td>\n",
       "      <td>1</td>\n",
       "      <td>2025-02-23 12:04:23</td>\n",
       "    </tr>\n",
       "    <tr>\n",
       "      <th>3</th>\n",
       "      <td>8003</td>\n",
       "      <td>32</td>\n",
       "      <td>Female</td>\n",
       "      <td>44085</td>\n",
       "      <td>PPC</td>\n",
       "      <td>Conversion</td>\n",
       "      <td>539.525936</td>\n",
       "      <td>0.137611</td>\n",
       "      <td>0.088004</td>\n",
       "      <td>47</td>\n",
       "      <td>...</td>\n",
       "      <td>14.688363</td>\n",
       "      <td>89</td>\n",
       "      <td>2</td>\n",
       "      <td>2</td>\n",
       "      <td>0</td>\n",
       "      <td>2463</td>\n",
       "      <td>IsConfid</td>\n",
       "      <td>ToolConfid</td>\n",
       "      <td>1</td>\n",
       "      <td>2024-09-19 08:54:02</td>\n",
       "    </tr>\n",
       "    <tr>\n",
       "      <th>4</th>\n",
       "      <td>8004</td>\n",
       "      <td>60</td>\n",
       "      <td>Female</td>\n",
       "      <td>83964</td>\n",
       "      <td>PPC</td>\n",
       "      <td>Conversion</td>\n",
       "      <td>1678.043573</td>\n",
       "      <td>0.252851</td>\n",
       "      <td>0.109940</td>\n",
       "      <td>0</td>\n",
       "      <td>...</td>\n",
       "      <td>13.993370</td>\n",
       "      <td>6</td>\n",
       "      <td>6</td>\n",
       "      <td>6</td>\n",
       "      <td>8</td>\n",
       "      <td>4345</td>\n",
       "      <td>IsConfid</td>\n",
       "      <td>ToolConfid</td>\n",
       "      <td>1</td>\n",
       "      <td>2025-03-11 02:37:25</td>\n",
       "    </tr>\n",
       "    <tr>\n",
       "      <th>...</th>\n",
       "      <td>...</td>\n",
       "      <td>...</td>\n",
       "      <td>...</td>\n",
       "      <td>...</td>\n",
       "      <td>...</td>\n",
       "      <td>...</td>\n",
       "      <td>...</td>\n",
       "      <td>...</td>\n",
       "      <td>...</td>\n",
       "      <td>...</td>\n",
       "      <td>...</td>\n",
       "      <td>...</td>\n",
       "      <td>...</td>\n",
       "      <td>...</td>\n",
       "      <td>...</td>\n",
       "      <td>...</td>\n",
       "      <td>...</td>\n",
       "      <td>...</td>\n",
       "      <td>...</td>\n",
       "      <td>...</td>\n",
       "      <td>...</td>\n",
       "    </tr>\n",
       "    <tr>\n",
       "      <th>7995</th>\n",
       "      <td>15995</td>\n",
       "      <td>21</td>\n",
       "      <td>Male</td>\n",
       "      <td>24849</td>\n",
       "      <td>Email</td>\n",
       "      <td>Awareness</td>\n",
       "      <td>8518.308575</td>\n",
       "      <td>0.243792</td>\n",
       "      <td>0.116773</td>\n",
       "      <td>23</td>\n",
       "      <td>...</td>\n",
       "      <td>14.227794</td>\n",
       "      <td>70</td>\n",
       "      <td>13</td>\n",
       "      <td>6</td>\n",
       "      <td>7</td>\n",
       "      <td>286</td>\n",
       "      <td>IsConfid</td>\n",
       "      <td>ToolConfid</td>\n",
       "      <td>0</td>\n",
       "      <td>2025-06-09 13:07:48</td>\n",
       "    </tr>\n",
       "    <tr>\n",
       "      <th>7996</th>\n",
       "      <td>15996</td>\n",
       "      <td>43</td>\n",
       "      <td>Female</td>\n",
       "      <td>44718</td>\n",
       "      <td>SEO</td>\n",
       "      <td>Retention</td>\n",
       "      <td>1424.613446</td>\n",
       "      <td>0.236740</td>\n",
       "      <td>0.190061</td>\n",
       "      <td>49</td>\n",
       "      <td>...</td>\n",
       "      <td>3.501106</td>\n",
       "      <td>52</td>\n",
       "      <td>13</td>\n",
       "      <td>1</td>\n",
       "      <td>5</td>\n",
       "      <td>1502</td>\n",
       "      <td>IsConfid</td>\n",
       "      <td>ToolConfid</td>\n",
       "      <td>0</td>\n",
       "      <td>2024-06-17 16:27:14</td>\n",
       "    </tr>\n",
       "    <tr>\n",
       "      <th>7997</th>\n",
       "      <td>15997</td>\n",
       "      <td>28</td>\n",
       "      <td>Female</td>\n",
       "      <td>125471</td>\n",
       "      <td>Referral</td>\n",
       "      <td>Consideration</td>\n",
       "      <td>4609.534635</td>\n",
       "      <td>0.056526</td>\n",
       "      <td>0.133826</td>\n",
       "      <td>35</td>\n",
       "      <td>...</td>\n",
       "      <td>14.618323</td>\n",
       "      <td>38</td>\n",
       "      <td>16</td>\n",
       "      <td>0</td>\n",
       "      <td>3</td>\n",
       "      <td>738</td>\n",
       "      <td>IsConfid</td>\n",
       "      <td>ToolConfid</td>\n",
       "      <td>1</td>\n",
       "      <td>2024-10-14 06:35:49</td>\n",
       "    </tr>\n",
       "    <tr>\n",
       "      <th>7998</th>\n",
       "      <td>15998</td>\n",
       "      <td>19</td>\n",
       "      <td>Female</td>\n",
       "      <td>107862</td>\n",
       "      <td>PPC</td>\n",
       "      <td>Consideration</td>\n",
       "      <td>9476.106354</td>\n",
       "      <td>0.023961</td>\n",
       "      <td>0.138386</td>\n",
       "      <td>49</td>\n",
       "      <td>...</td>\n",
       "      <td>3.876623</td>\n",
       "      <td>86</td>\n",
       "      <td>1</td>\n",
       "      <td>5</td>\n",
       "      <td>7</td>\n",
       "      <td>2709</td>\n",
       "      <td>IsConfid</td>\n",
       "      <td>ToolConfid</td>\n",
       "      <td>1</td>\n",
       "      <td>2024-07-09 19:52:28</td>\n",
       "    </tr>\n",
       "    <tr>\n",
       "      <th>7999</th>\n",
       "      <td>15999</td>\n",
       "      <td>31</td>\n",
       "      <td>Female</td>\n",
       "      <td>93002</td>\n",
       "      <td>Email</td>\n",
       "      <td>Awareness</td>\n",
       "      <td>7743.627070</td>\n",
       "      <td>0.185670</td>\n",
       "      <td>0.057228</td>\n",
       "      <td>15</td>\n",
       "      <td>...</td>\n",
       "      <td>12.763660</td>\n",
       "      <td>2</td>\n",
       "      <td>18</td>\n",
       "      <td>9</td>\n",
       "      <td>9</td>\n",
       "      <td>341</td>\n",
       "      <td>IsConfid</td>\n",
       "      <td>ToolConfid</td>\n",
       "      <td>0</td>\n",
       "      <td>2024-10-04 22:31:45</td>\n",
       "    </tr>\n",
       "  </tbody>\n",
       "</table>\n",
       "<p>8000 rows × 21 columns</p>\n",
       "</div>"
      ],
      "text/plain": [
       "      CustomerID  Age  Gender  Income CampaignChannel   CampaignType  \\\n",
       "0           8000   56  Female  136912    Social Media      Awareness   \n",
       "1           8001   69    Male   41760           Email      Retention   \n",
       "2           8002   46  Female   88456             PPC      Awareness   \n",
       "3           8003   32  Female   44085             PPC     Conversion   \n",
       "4           8004   60  Female   83964             PPC     Conversion   \n",
       "...          ...  ...     ...     ...             ...            ...   \n",
       "7995       15995   21    Male   24849           Email      Awareness   \n",
       "7996       15996   43  Female   44718             SEO      Retention   \n",
       "7997       15997   28  Female  125471        Referral  Consideration   \n",
       "7998       15998   19  Female  107862             PPC  Consideration   \n",
       "7999       15999   31  Female   93002           Email      Awareness   \n",
       "\n",
       "          AdSpend  ClickThroughRate  ConversionRate  WebsiteVisits  ...  \\\n",
       "0     6497.870068          0.043919        0.088031              0  ...   \n",
       "1     3898.668606          0.155725        0.182725             42  ...   \n",
       "2     1546.429596          0.277490        0.076423              2  ...   \n",
       "3      539.525936          0.137611        0.088004             47  ...   \n",
       "4     1678.043573          0.252851        0.109940              0  ...   \n",
       "...           ...               ...             ...            ...  ...   \n",
       "7995  8518.308575          0.243792        0.116773             23  ...   \n",
       "7996  1424.613446          0.236740        0.190061             49  ...   \n",
       "7997  4609.534635          0.056526        0.133826             35  ...   \n",
       "7998  9476.106354          0.023961        0.138386             49  ...   \n",
       "7999  7743.627070          0.185670        0.057228             15  ...   \n",
       "\n",
       "      TimeOnSite  SocialShares  EmailOpens  EmailClicks  PreviousPurchases  \\\n",
       "0       7.396803            19           6            9                  4   \n",
       "1       5.352549             5           2            7                  2   \n",
       "2      13.794901             0          11            2                  8   \n",
       "3      14.688363            89           2            2                  0   \n",
       "4      13.993370             6           6            6                  8   \n",
       "...          ...           ...         ...          ...                ...   \n",
       "7995   14.227794            70          13            6                  7   \n",
       "7996    3.501106            52          13            1                  5   \n",
       "7997   14.618323            38          16            0                  3   \n",
       "7998    3.876623            86           1            5                  7   \n",
       "7999   12.763660             2          18            9                  9   \n",
       "\n",
       "      LoyaltyPoints  AdvertisingPlatform AdvertisingTool Conversion  \\\n",
       "0               688             IsConfid      ToolConfid          1   \n",
       "1              3459             IsConfid      ToolConfid          1   \n",
       "2              2337             IsConfid      ToolConfid          1   \n",
       "3              2463             IsConfid      ToolConfid          1   \n",
       "4              4345             IsConfid      ToolConfid          1   \n",
       "...             ...                  ...             ...        ...   \n",
       "7995            286             IsConfid      ToolConfid          0   \n",
       "7996           1502             IsConfid      ToolConfid          0   \n",
       "7997            738             IsConfid      ToolConfid          1   \n",
       "7998           2709             IsConfid      ToolConfid          1   \n",
       "7999            341             IsConfid      ToolConfid          0   \n",
       "\n",
       "          ClickTimestamp  \n",
       "0    2024-12-28 23:16:37  \n",
       "1    2025-04-10 04:42:42  \n",
       "2    2025-02-23 12:04:23  \n",
       "3    2024-09-19 08:54:02  \n",
       "4    2025-03-11 02:37:25  \n",
       "...                  ...  \n",
       "7995 2025-06-09 13:07:48  \n",
       "7996 2024-06-17 16:27:14  \n",
       "7997 2024-10-14 06:35:49  \n",
       "7998 2024-07-09 19:52:28  \n",
       "7999 2024-10-04 22:31:45  \n",
       "\n",
       "[8000 rows x 21 columns]"
      ]
     },
     "execution_count": 4,
     "metadata": {},
     "output_type": "execute_result"
    }
   ],
   "source": [
    "df"
   ]
  },
  {
   "cell_type": "code",
   "execution_count": 5,
   "id": "b92bcd3b",
   "metadata": {},
   "outputs": [
    {
     "name": "stdout",
     "output_type": "stream",
     "text": [
      "['Social Media' 'Email' 'PPC' 'Referral' 'SEO']\n"
     ]
    }
   ],
   "source": [
    "#Karena AdvertisingPlatform & AdvertisingToolnya confidential, saya akan membuat data dummy.\n",
    "#Cek data CampaignChannel terlebih dahulu\n",
    "print(df['CampaignChannel'].unique())"
   ]
  },
  {
   "cell_type": "code",
   "execution_count": 6,
   "id": "68631f04",
   "metadata": {},
   "outputs": [
    {
     "name": "stdout",
     "output_type": "stream",
     "text": [
      "  CampaignChannel AdvertisingPlatform                 AdvertisingTool\n",
      "0    Social Media         Twitter (X)                   X Ads Manager\n",
      "1           Email          Sendinblue            Sendinblue Dashboard\n",
      "2             PPC            Bing Ads  Microsoft Advertising Platform\n",
      "3             PPC          Google Ads              Google Ads Manager\n",
      "4             PPC          Amazon Ads      Amazon Advertising Console\n"
     ]
    }
   ],
   "source": [
    "import random\n",
    "import pandas as pd\n",
    "\n",
    "#1. Dictionary mapping (Strict Mapping) \n",
    "ads_mapping = {\n",
    "    'Social Media': [\n",
    "        ('Facebook', 'Facebook Ads Manager'),\n",
    "        ('Instagram', 'Meta Ads Manager'),\n",
    "        ('TikTok', 'TikTok Ads Manager'),\n",
    "        ('Twitter (X)', 'X Ads Manager'),\n",
    "        ('LinkedIn', 'LinkedIn Campaign Manager')\n",
    "    ],\n",
    "    'Email': [\n",
    "        ('Mailchimp', 'Mailchimp Automation'),\n",
    "        ('Sendinblue', 'Sendinblue Dashboard')\n",
    "    ],\n",
    "    'PPC': [\n",
    "        ('Google Ads', 'Google Ads Manager'),\n",
    "        ('Bing Ads', 'Microsoft Advertising Platform'),\n",
    "        ('Amazon Ads', 'Amazon Advertising Console')\n",
    "    ],\n",
    "    'Referral': [\n",
    "        ('CJ Affiliate', 'CJ Affiliate Dashboard'),\n",
    "        ('Upfluence', 'Upfluence Platform'),\n",
    "        ('Yotpo', 'Yotpo Loyalty Manager')\n",
    "    ],\n",
    "    'SEO': [\n",
    "        ('Google Search', 'Google Search Console'),\n",
    "        ('Bing', 'Bing Webmaster Tools'),\n",
    "        ('Yahoo', 'Yahoo Search Marketing')\n",
    "    ]\n",
    "}\n",
    "\n",
    "#  2. Fungsi untuk assign platform & tool\n",
    "def assign_ads_info(channel):\n",
    "    platform, tool = random.choice(ads_mapping[channel])\n",
    "    return pd.Series([platform, tool])\n",
    "\n",
    "#  3. Memastikan df adalah copy, lalu apply \n",
    "df = df.copy()  \n",
    "df[['AdvertisingPlatform', 'AdvertisingTool']] = df['CampaignChannel'].apply(assign_ads_info)\n",
    "\n",
    "#  4. Cek hasil \n",
    "print(df[['CampaignChannel', 'AdvertisingPlatform', 'AdvertisingTool']].head())\n"
   ]
  },
  {
   "cell_type": "code",
   "execution_count": 7,
   "id": "3268566f",
   "metadata": {},
   "outputs": [
    {
     "data": {
      "text/plain": [
       "CustomerID             0\n",
       "Age                    0\n",
       "Gender                 0\n",
       "Income                 0\n",
       "CampaignChannel        0\n",
       "CampaignType           0\n",
       "AdSpend                0\n",
       "ClickThroughRate       0\n",
       "ConversionRate         0\n",
       "WebsiteVisits          0\n",
       "PagesPerVisit          0\n",
       "TimeOnSite             0\n",
       "SocialShares           0\n",
       "EmailOpens             0\n",
       "EmailClicks            0\n",
       "PreviousPurchases      0\n",
       "LoyaltyPoints          0\n",
       "AdvertisingPlatform    0\n",
       "AdvertisingTool        0\n",
       "Conversion             0\n",
       "ClickTimestamp         0\n",
       "dtype: int64"
      ]
     },
     "execution_count": 7,
     "metadata": {},
     "output_type": "execute_result"
    }
   ],
   "source": [
    "#Memastikan tidak ada data yang null\n",
    "df.isna().sum()"
   ]
  },
  {
   "cell_type": "code",
   "execution_count": 8,
   "id": "fb7cde06",
   "metadata": {},
   "outputs": [],
   "source": [
    "#Menambah data user perregion\n",
    "import numpy as np\n",
    "\n",
    "# Daftar pulau/region besar di Indonesia\n",
    "pulau_indonesia = [\n",
    "    \"Jawa\", \"Sumatra\", \"Kalimantan\", \"Sulawesi\", \"Papua\", \"Bali\", \"Nusa Tenggara\"\n",
    "]\n",
    "\n",
    "# Tambahkan kolom baru berisi random pulau\n",
    "df['Region'] = np.random.choice(pulau_indonesia, size=len(df))\n"
   ]
  },
  {
   "cell_type": "code",
   "execution_count": 9,
   "id": "7d10db6a",
   "metadata": {},
   "outputs": [
    {
     "data": {
      "text/plain": [
       "CustomerID                      int64\n",
       "Age                             int64\n",
       "Gender                         object\n",
       "Income                          int64\n",
       "CampaignChannel                object\n",
       "CampaignType                   object\n",
       "AdSpend                       float64\n",
       "ClickThroughRate              float64\n",
       "ConversionRate                float64\n",
       "WebsiteVisits                   int64\n",
       "PagesPerVisit                 float64\n",
       "TimeOnSite                    float64\n",
       "SocialShares                    int64\n",
       "EmailOpens                      int64\n",
       "EmailClicks                     int64\n",
       "PreviousPurchases               int64\n",
       "LoyaltyPoints                   int64\n",
       "AdvertisingPlatform            object\n",
       "AdvertisingTool                object\n",
       "Conversion                      int64\n",
       "ClickTimestamp         datetime64[ns]\n",
       "Region                         object\n",
       "dtype: object"
      ]
     },
     "execution_count": 9,
     "metadata": {},
     "output_type": "execute_result"
    }
   ],
   "source": [
    "#Rapikan tipe data\n",
    "df.dtypes"
   ]
  },
  {
   "cell_type": "code",
   "execution_count": 10,
   "id": "489df362",
   "metadata": {},
   "outputs": [],
   "source": [
    "#Setelah data bersih save ulang ke CSV\n",
    "df.to_csv('marketing_campaign.csv', index=False)"
   ]
  },
  {
   "cell_type": "markdown",
   "id": "524b845d",
   "metadata": {},
   "source": [
    "**5. ANALISIS STATISTIK DESKRIPTIF**\n",
    "\n",
    "Pertanyaan: pilihlah minimal salah satu perhitungan/analisis statistik deskriptif seperti central tendency, measure of variance, outlier analysis, distribution, dsb. Sesuaikan dengan penjabaran masalah yang ditentukan.\n",
    "\n",
    "Perhitungan: Central Tendency + Variance untuk AdSpend dan ConversionRate\n",
    "→ karena ini langsung menjawab “berapa rata-rata pengeluaran & performa kampanye” dan “seberapa besar variasinya”."
   ]
  },
  {
   "cell_type": "code",
   "execution_count": 11,
   "id": "64634eb2",
   "metadata": {},
   "outputs": [],
   "source": [
    "# Kolom yang akan dianalisis\n",
    "cols = ['AdSpend', 'ConversionRate']\n",
    "\n",
    "# Central Tendency\n",
    "mean_values = df[cols].mean()\n",
    "median_values = df[cols].median()\n",
    "mode_values = df[cols].mode().iloc[0] \n",
    "\n",
    "# Measure of Variance\n",
    "variance_values = df[cols].var()\n",
    "std_values = df[cols].std()\n",
    "range_values = df[cols].max() - df[cols].min()\n",
    "\n",
    "# Gabungkan ke dalam satu DataFrame \n",
    "summary_stats = pd.DataFrame({\n",
    "    'Mean': mean_values,\n",
    "    'Median': median_values,\n",
    "    'Mode': mode_values,\n",
    "    'Variance': variance_values,\n",
    "    'Std Dev': std_values,\n",
    "    'Range': range_values\n",
    "})\n",
    "\n"
   ]
  },
  {
   "cell_type": "code",
   "execution_count": 12,
   "id": "d836faad",
   "metadata": {},
   "outputs": [
    {
     "data": {
      "text/html": [
       "<div>\n",
       "<style scoped>\n",
       "    .dataframe tbody tr th:only-of-type {\n",
       "        vertical-align: middle;\n",
       "    }\n",
       "\n",
       "    .dataframe tbody tr th {\n",
       "        vertical-align: top;\n",
       "    }\n",
       "\n",
       "    .dataframe thead th {\n",
       "        text-align: right;\n",
       "    }\n",
       "</style>\n",
       "<table border=\"1\" class=\"dataframe\">\n",
       "  <thead>\n",
       "    <tr style=\"text-align: right;\">\n",
       "      <th></th>\n",
       "      <th>Mean</th>\n",
       "      <th>Median</th>\n",
       "      <th>Mode</th>\n",
       "      <th>Variance</th>\n",
       "      <th>Std Dev</th>\n",
       "      <th>Range</th>\n",
       "    </tr>\n",
       "  </thead>\n",
       "  <tbody>\n",
       "    <tr>\n",
       "      <th>AdSpend</th>\n",
       "      <td>5000.944830</td>\n",
       "      <td>5013.440044</td>\n",
       "      <td>100.054813</td>\n",
       "      <td>8.054461e+06</td>\n",
       "      <td>2838.038153</td>\n",
       "      <td>9897.859968</td>\n",
       "    </tr>\n",
       "    <tr>\n",
       "      <th>ConversionRate</th>\n",
       "      <td>0.104389</td>\n",
       "      <td>0.104046</td>\n",
       "      <td>0.010018</td>\n",
       "      <td>3.011628e-03</td>\n",
       "      <td>0.054878</td>\n",
       "      <td>0.189977</td>\n",
       "    </tr>\n",
       "  </tbody>\n",
       "</table>\n",
       "</div>"
      ],
      "text/plain": [
       "                       Mean       Median        Mode      Variance  \\\n",
       "AdSpend         5000.944830  5013.440044  100.054813  8.054461e+06   \n",
       "ConversionRate     0.104389     0.104046    0.010018  3.011628e-03   \n",
       "\n",
       "                    Std Dev        Range  \n",
       "AdSpend         2838.038153  9897.859968  \n",
       "ConversionRate     0.054878     0.189977  "
      ]
     },
     "execution_count": 12,
     "metadata": {},
     "output_type": "execute_result"
    }
   ],
   "source": [
    "summary_stats"
   ]
  },
  {
   "cell_type": "markdown",
   "id": "30d5ce9e",
   "metadata": {},
   "source": [
    "**Hasil Analisis AdSpend (Pengeluaran Iklan)**\n",
    "1. Rata-rata (Mean): Sekitar 5.000 USD dikeluarkan untuk setiap kampanye.\n",
    "2. Median: 5.013 USD, hampir sama dengan rata-rata. Artinya sebagian besar kampanye berada di sekitar angka ini, tidak condong terlalu besar atau terlalu kecil.\n",
    "3. Modus: 100 USD, jauh lebih kecil dari rata-rata --> setelah uji coba modus di code bawah, ternyata seluruh nilai Adspend itu unik, yang artinya mode tidak relevan untuk data kontinu dengan nilai unik seperti AdSpend ini.\n",
    "4. Variansi & Standar Deviasi: Angkanya besar (variasi tinggi), menunjukkan ada kampanye dengan pengeluaran sangat besar dan sangat kecil.\n",
    "5. Range (Selisih terbesar-terkecil): Hampir 9.898 USD, jadi memang ada perbedaan besar antara kampanye paling hemat dan paling mahal.\n",
    "\n",
    "**Artinya: Pengeluaran iklan sangat bervariasi.**"
   ]
  },
  {
   "cell_type": "code",
   "execution_count": 13,
   "id": "64aa9b62",
   "metadata": {},
   "outputs": [
    {
     "name": "stdout",
     "output_type": "stream",
     "text": [
      "Min AdSpend: 100.05481308980612\n",
      "Max AdSpend: 9997.914780944691\n"
     ]
    }
   ],
   "source": [
    "adspend_min = df['AdSpend'].min()\n",
    "adspend_max = df['AdSpend'].max()\n",
    "print(f\"Min AdSpend: {adspend_min}\")\n",
    "print(f\"Max AdSpend: {adspend_max}\")\n"
   ]
  },
  {
   "cell_type": "markdown",
   "id": "ae01a025",
   "metadata": {},
   "source": [
    "**Hasil Analisis Conversion Rate (CR):**\n",
    "1. Mean: sekitar 0.1044 (10,44%) → Secara umum, konversi kampanye berada di sekitar 10,4%.\n",
    "2. Median: 0.1040, mendekati mean → distribusi CR relatif seimbang, tidak ada kemiringan ekstrem.\n",
    "3. Modus: 0.0100, tapi karena semua data unik atau hampir unik, modus tidak berarti (hanya kebetulan nilai terkecil ini muncul paling awal).\n",
    "4. Variance: 0.0030 dan Std Dev: 0.0549 → variasi nilai cukup besar dibandingkan nilai rata-rata (lebih dari 50% dari mean).\n",
    "5. Range: 0.1899 → ada gap besar antara CR terendah dan tertinggi.\n",
    "\n",
    "**Artinya:**\n",
    "Sebagian besar kampanye punya conversion rate di sekitar 10%, tapi ada cukup banyak kampanye berkinerja rendah (1%) yang sering muncul. Variasi tinggi ini menandakan bahwa efektivitas kampanye berbeda-beda, mungkin karena perbedaan channel, strategi, atau target audiens."
   ]
  },
  {
   "cell_type": "code",
   "execution_count": 14,
   "id": "f8c79fa0",
   "metadata": {},
   "outputs": [
    {
     "data": {
      "text/plain": [
       "True"
      ]
     },
     "execution_count": 14,
     "metadata": {},
     "output_type": "execute_result"
    }
   ],
   "source": [
    "df['ConversionRate'].nunique() == len(df['ConversionRate'])"
   ]
  },
  {
   "cell_type": "code",
   "execution_count": 15,
   "id": "70688732",
   "metadata": {},
   "outputs": [
    {
     "name": "stdout",
     "output_type": "stream",
     "text": [
      "Min CR: 0.0100177828330717\n",
      "Max CR: 0.1999947079999166\n"
     ]
    }
   ],
   "source": [
    "ConversionRate_min = df['ConversionRate'].min()\n",
    "ConversionRate_max = df['ConversionRate'].max()\n",
    "print(f\"Min CR: {ConversionRate_min}\")\n",
    "print(f\"Max CR: {ConversionRate_max}\")\n"
   ]
  },
  {
   "cell_type": "markdown",
   "id": "f11ce504",
   "metadata": {},
   "source": [
    "**6. ANALISIS STATISTIK INFERENSIAL** \n",
    "\n",
    "PERTANYAAN:  Pilihlah minimal salah satu perhitungan/analisis statistik inferensial seperti confidence interval, statistical significance, statistical testing, hypothesis testing: one sample, two sample independent, paired test, ANOVA, chi-square, dsb. Sesuaikan dengan penjabaran masalah yang ditentukan."
   ]
  },
  {
   "cell_type": "markdown",
   "id": "54203741",
   "metadata": {},
   "source": [
    "**6.i Menentukan hipotesis:**\n",
    "- H₀ (Hipotesis Nol): Rata-rata Conversion Rate semua channel sama (channel tidak memengaruhi CR).\n",
    "- H₁ (Hipotesis Alternatif): Ada perbedaan rata-rata Conversion Rate antar channel (setidaknya satu berbeda)."
   ]
  },
  {
   "cell_type": "markdown",
   "id": "d97564e9",
   "metadata": {},
   "source": [
    "**6.ii Pilih metode pengujian**\n",
    "Karena kita membandingkan lebih dari dua kelompok (channel), pakai ANOVA (Analysis of Variance)."
   ]
  },
  {
   "cell_type": "code",
   "execution_count": 16,
   "id": "c37e8dac",
   "metadata": {},
   "outputs": [
    {
     "data": {
      "text/plain": [
       "array(['Social Media', 'Email', 'PPC', 'Referral', 'SEO'], dtype=object)"
      ]
     },
     "execution_count": 16,
     "metadata": {},
     "output_type": "execute_result"
    }
   ],
   "source": [
    "#Cek kategori campaign channel\n",
    "df['CampaignChannel'].unique()"
   ]
  },
  {
   "cell_type": "code",
   "execution_count": 17,
   "id": "7cc0dbf9",
   "metadata": {},
   "outputs": [],
   "source": [
    "#Pisahkan data ConversionRate \n",
    "email = df['ConversionRate'][df['CampaignChannel']=='Email']\n",
    "ppc = df['ConversionRate'][df['CampaignChannel']=='PPC']\n",
    "seo = df['ConversionRate'][df['CampaignChannel']=='SEO']\n",
    "referral = df['ConversionRate'][df['CampaignChannel']=='Referral']\n",
    "socialmedia = df['ConversionRate'][df['CampaignChannel']=='Social Media']"
   ]
  },
  {
   "cell_type": "code",
   "execution_count": 18,
   "id": "cafb9d24",
   "metadata": {},
   "outputs": [
    {
     "name": "stdout",
     "output_type": "stream",
     "text": [
      "Average ConversionRate Social Media: 0.1066\n",
      "Average ConversionRate Email: 0.1049\n",
      "Average ConversionRate PPC: 0.1041\n",
      "Average ConversionRate Referral: 0.1031\n",
      "Average ConversionRate SEO: 0.1035\n"
     ]
    }
   ],
   "source": [
    "#Hitung rata-rata masing-masing channel\n",
    "print(f'Average ConversionRate Social Media: {socialmedia.mean():.4f}')\n",
    "print(f'Average ConversionRate Email: {email.mean():.4f}')\n",
    "print(f'Average ConversionRate PPC: {ppc.mean():.4f}')\n",
    "print(f'Average ConversionRate Referral: {referral.mean():.4f}')\n",
    "print(f'Average ConversionRate SEO: {seo.mean():.4f}')\n",
    "\n"
   ]
  },
  {
   "cell_type": "code",
   "execution_count": 19,
   "id": "678962cb",
   "metadata": {},
   "outputs": [
    {
     "name": "stdout",
     "output_type": "stream",
     "text": [
      "P-value: 0.4170397703480838\n"
     ]
    }
   ],
   "source": [
    "#Tentukan hipotesis\n",
    "# Recall Hipotesis\n",
    "# H0: Rata-rata Conversion Rate semua channel hampir sama sama, tidak ada perbedaan signifikan antara Social Media, Email, PPC, Referral, dan SEO.\n",
    "# H1: Rata-rata Conversion Rate setidaknya satu channel berbeda, ada minimal satu channel yang performanya berbeda secara signifikan dibanding yang lain.\n",
    "\n",
    "#Lakukan ANOVA\n",
    "from scipy import stats\n",
    "\n",
    "res = stats.f_oneway(socialmedia, email, ppc, referral, seo)\n",
    "print('P-value:', res.pvalue)"
   ]
  },
  {
   "cell_type": "markdown",
   "id": "be5e6410",
   "metadata": {},
   "source": [
    "**Interpretasi:**\n",
    "\n",
    "Dengan p-value = 0.417:\n",
    "- Nilai ini lebih besar dari 0,05 (α = 5%), artinya tidak ada bukti cukup untuk menolak H₀.\n",
    "- Kesimpulannya: rata-rata ConversionRate antar channel (Social Media, Email, PPC, Referral, SEO) tidak berbeda secara signifikan.\n",
    "- Dengan kata lain, walaupun ada perbedaan angka kecil, perbedaan itu bisa saja karena variasi acak, bukan karena perbedaan nyata di performa channel."
   ]
  },
  {
   "cell_type": "markdown",
   "id": "d8797432",
   "metadata": {},
   "source": [
    "**7. ANALISIS TAMBAHAN**"
   ]
  },
  {
   "cell_type": "markdown",
   "id": "07f0b0db",
   "metadata": {},
   "source": [
    "**1. What – Saluran Kampanye Terbaik**"
   ]
  },
  {
   "cell_type": "code",
   "execution_count": 20,
   "id": "b8cf6bd4",
   "metadata": {},
   "outputs": [
    {
     "name": "stdout",
     "output_type": "stream",
     "text": [
      "CampaignChannel\n",
      "Social Media    0.106550\n",
      "Email           0.104884\n",
      "PPC             0.104132\n",
      "SEO             0.103530\n",
      "Referral        0.103051\n",
      "Name: ConversionRate, dtype: float64\n"
     ]
    }
   ],
   "source": [
    "# Rata-rata ConversionRate per CampaignChannel\n",
    "# Mean digunakan untuk mengetahui rata-rata AdSpend dan ConversionRate tiap kampanye, karena ini memberi gambaran pengeluaran iklan rata-rata.\n",
    "channel_cr = df.groupby('CampaignChannel')['ConversionRate'].mean().sort_values(ascending=False)\n",
    "print(channel_cr)\n"
   ]
  },
  {
   "cell_type": "code",
   "execution_count": 21,
   "id": "4e11f620",
   "metadata": {},
   "outputs": [
    {
     "data": {
      "image/png": "[encoded data removed]",
      "text/plain": [
       "<Figure size 800x500 with 1 Axes>"
      ]
     },
     "metadata": {},
     "output_type": "display_data"
    }
   ],
   "source": [
    "import matplotlib.pyplot as plt\n",
    "\n",
    "# Data\n",
    "channel_cr = df.groupby('CampaignChannel')['ConversionRate'].mean().sort_values(ascending=False)\n",
    "\n",
    "# Plot\n",
    "plt.figure(figsize=(8, 5))\n",
    "channel_cr.plot(kind='bar', color='skyblue')\n",
    "plt.title('Rata-rata Conversion Rate per Campaign Channel (Q1–Q2 2025)')\n",
    "plt.xlabel('Campaign Channel')\n",
    "plt.ylabel('Conversion Rate (%)')\n",
    "plt.xticks(rotation=45)\n",
    "plt.tight_layout()\n",
    "plt.show()\n"
   ]
  },
  {
   "cell_type": "markdown",
   "id": "d8e1ce21",
   "metadata": {},
   "source": [
    "**Result:** Social Media adalah campaign channel terbaik dan bisa dioptimalisasi penggunaannya oleh tim marketing dengan rata rata tertinggi yaitu 0.106."
   ]
  },
  {
   "cell_type": "markdown",
   "id": "bb09e79e",
   "metadata": {},
   "source": [
    "2. **What** - Apakah rata-rata Conversion Rate berbeda signifikan antar kategori CampaignType?"
   ]
  },
  {
   "cell_type": "code",
   "execution_count": 22,
   "id": "6167681e",
   "metadata": {},
   "outputs": [
    {
     "name": "stdout",
     "output_type": "stream",
     "text": [
      "F-Statistic: 0.45210658040416407\n",
      "p-value: 0.7158119183678934\n"
     ]
    }
   ],
   "source": [
    "import pandas as pd\n",
    "from scipy.stats import f_oneway\n",
    "\n",
    "# Ambil data tiap kategori\n",
    "awareness = df[df['CampaignType'] == 'Awareness']['ConversionRate']\n",
    "retention = df[df['CampaignType'] == 'Retention']['ConversionRate']\n",
    "conversion = df[df['CampaignType'] == 'Conversion']['ConversionRate']\n",
    "consideration = df[df['CampaignType'] == 'Consideration']['ConversionRate']\n",
    "\n",
    "# One-Way ANOVA\n",
    "f_stat, p_val = f_oneway(awareness, retention, conversion, consideration)\n",
    "\n",
    "print(\"F-Statistic:\", f_stat)\n",
    "print(\"p-value:\", p_val)\n"
   ]
  },
  {
   "cell_type": "markdown",
   "id": "f0fd6409",
   "metadata": {},
   "source": [
    "**Result**: Hasil ANOVA menunjukkan **F = 0.45** dan **p-value = 0.716**, artinya **tidak ada perbedaan signifikan** pada rata-rata Conversion Rate antar kategori CampaignType. Dengan kata lain, jenis kampanye (Awareness, Retention, Conversion, Consideration) **tidak memengaruhi secara signifikan Conversion Rate**.\n"
   ]
  },
  {
   "cell_type": "markdown",
   "id": "da4e129d",
   "metadata": {},
   "source": [
    "3. **What** - Apakah pelanggan dengan LoyaltyPoints tinggi lebih cenderung melakukan konversi dibanding pelanggan biasa?"
   ]
  },
  {
   "cell_type": "code",
   "execution_count": 23,
   "id": "52eb9d76",
   "metadata": {},
   "outputs": [
    {
     "name": "stdout",
     "output_type": "stream",
     "text": [
      "T-statistic: 4.5437, p-value: 0.0000\n",
      "Mean High LP: 0.9035, Mean Low LP: 0.8675\n",
      "Hasil signifikan: Pelanggan dengan LoyaltyPoints tinggi berbeda dalam Conversion Rate.\n"
     ]
    }
   ],
   "source": [
    "import pandas as pd\n",
    "import numpy as np\n",
    "from scipy.stats import ttest_ind\n",
    "\n",
    "\n",
    "# Buat kategori HighLP (>= Q3)\n",
    "threshold = df['LoyaltyPoints'].quantile(0.75)\n",
    "df['HighLP'] = np.where(df['LoyaltyPoints'] >= threshold, 1, 0)\n",
    "\n",
    "# Ambil dua kelompok\n",
    "high_group = df[df['HighLP'] == 1]['Conversion']\n",
    "low_group = df[df['HighLP'] == 0]['Conversion']\n",
    "\n",
    "# Uji T-Test \n",
    "t_stat, p_val = ttest_ind(high_group, low_group, equal_var=False)\n",
    "\n",
    "# Hitung mean per grup\n",
    "mean_high, mean_low = high_group.mean(), low_group.mean()\n",
    "\n",
    "print(f\"T-statistic: {t_stat:.4f}, p-value: {p_val:.4f}\")\n",
    "print(f\"Mean High LP: {mean_high:.4f}, Mean Low LP: {mean_low:.4f}\")\n",
    "\n",
    "if p_val < 0.05:\n",
    "    print(\"Hasil signifikan: Pelanggan dengan LoyaltyPoints tinggi berbeda dalam Conversion Rate.\")\n",
    "else:\n",
    "    print(\"Tidak ada bukti signifikan perbedaan Conversion Rate antara kelompok.\")"
   ]
  },
  {
   "cell_type": "markdown",
   "id": "7a9b1177",
   "metadata": {},
   "source": [
    "**Result**: Result: T-statistic 4.54 menunjukkan perbedaan yang kuat antara dua kelompok (LoyaltyPoints tinggi vs biasa). Pelanggan dengan poin tinggi jelas lebih sering melakukan konversi, ditunjukkan oleh Conversion Rate yang lebih tinggi (0,9035) dibandingkan pelanggan biasa (0,8675). Dengan ini,  tim marketing bisa menargetkan customer loyal sebagai target ads tertentu."
   ]
  },
  {
   "cell_type": "markdown",
   "id": "0ec5f332",
   "metadata": {},
   "source": [
    "3. **What**: Faktor apa yang paling berpengaruh ke Conversion Rate?"
   ]
  },
  {
   "cell_type": "code",
   "execution_count": 24,
   "id": "836a6681",
   "metadata": {},
   "outputs": [
    {
     "name": "stdout",
     "output_type": "stream",
     "text": [
      "ANOVA CampaignChannel vs ConversionRate -> F-Statistic: 0.9799386185702154 , p-value: 0.4170397703480838\n"
     ]
    }
   ],
   "source": [
    "#Hitung faktor satu persatu, dimulai dari Channel\n",
    "import scipy.stats as stats\n",
    "\n",
    "groups = [df['ConversionRate'][df['CampaignChannel'] == ch] for ch in df['CampaignChannel'].unique()]\n",
    "f_stat, p_val = stats.f_oneway(*groups)\n",
    "print(\"ANOVA CampaignChannel vs ConversionRate -> F-Statistic:\", f_stat, \", p-value:\", p_val)\n"
   ]
  },
  {
   "cell_type": "code",
   "execution_count": 25,
   "id": "f1aee471",
   "metadata": {},
   "outputs": [
    {
     "name": "stdout",
     "output_type": "stream",
     "text": [
      "ANOVA CampaignType vs ConversionRate -> F-Statistic: 0.45210658040416407 , p-value: 0.7158119183678934\n"
     ]
    }
   ],
   "source": [
    "#Campaign type\n",
    "groups = [df['ConversionRate'][df['CampaignType'] == ct] for ct in df['CampaignType'].unique()]\n",
    "f_stat, p_val = stats.f_oneway(*groups)\n",
    "print(\"ANOVA CampaignType vs ConversionRate -> F-Statistic:\", f_stat, \", p-value:\", p_val)\n"
   ]
  },
  {
   "cell_type": "code",
   "execution_count": 26,
   "id": "3e281db3",
   "metadata": {},
   "outputs": [
    {
     "name": "stdout",
     "output_type": "stream",
     "text": [
      "Correlation AdSpend vs ConversionRate -> r: -0.020184847133302375 , p-value: 0.0710294066692255\n"
     ]
    }
   ],
   "source": [
    "#AdSpend, karena adspend berbentuk numerik, jadi memakai uji korelasi\n",
    "corr, p_val = stats.pearsonr(df['AdSpend'], df['ConversionRate'])\n",
    "print(\"Correlation AdSpend vs ConversionRate -> r:\", corr, \", p-value:\", p_val)\n"
   ]
  },
  {
   "cell_type": "code",
   "execution_count": 27,
   "id": "7faaca4b",
   "metadata": {},
   "outputs": [
    {
     "name": "stdout",
     "output_type": "stream",
     "text": [
      "F-Statistic: 0.278362264866546, p-value: 0.9473822044444824\n"
     ]
    }
   ],
   "source": [
    "#Region\n",
    "import scipy.stats as stats\n",
    "groups = [df[df['Region'] == region]['ConversionRate'] for region in df['Region'].unique()]\n",
    "\n",
    "f_stat, p_val = stats.f_oneway(*groups)\n",
    "\n",
    "print(f\"F-Statistic: {f_stat}, p-value: {p_val}\")\n"
   ]
  },
  {
   "cell_type": "code",
   "execution_count": 28,
   "id": "cc71ce84",
   "metadata": {},
   "outputs": [
    {
     "data": {
      "image/png": "[encoded data removed]",
      "text/plain": [
       "<Figure size 800x500 with 1 Axes>"
      ]
     },
     "metadata": {},
     "output_type": "display_data"
    }
   ],
   "source": [
    "#Visualisasi signifikansi faktor terhadap CR\n",
    "import matplotlib.pyplot as plt\n",
    "\n",
    "# Data p-value\n",
    "factors = ['AdSpend', 'CampaignType', 'CampaignChannel', 'Region']\n",
    "p_values = [0.0710294066692255, 0.7158119183678934, 0.4170397703480838, 0.9626748713159748]\n",
    "\n",
    "# Plot\n",
    "plt.figure(figsize=(8, 5))\n",
    "bars = plt.bar(factors, p_values, color=['#1f77b4', '#ff7f0e', '#2ca02c', '#d62728'])\n",
    "\n",
    "# Garis signifikansi 0.05\n",
    "plt.axhline(y=0.05, color='red', linestyle='--', label='Significance Level (0.05)')\n",
    "\n",
    "# Tambahkan nilai p-value di atas bar\n",
    "for bar, p in zip(bars, p_values):\n",
    "    plt.text(bar.get_x() + bar.get_width()/2, bar.get_height() + 0.02, f'{p:.3f}', ha='center', fontsize=10)\n",
    "\n",
    "# Label & Title\n",
    "plt.title('P-Values dari Faktor terhadap Conversion Rate')\n",
    "plt.ylabel('P-Value')\n",
    "plt.ylim(0, 1.1)\n",
    "plt.legend()\n",
    "plt.show()\n"
   ]
  },
  {
   "cell_type": "markdown",
   "id": "885fd96b",
   "metadata": {},
   "source": [
    "**Result**: \n",
    "**AdSpend (0.071) < CampaignChannel (0.417) < CampaignType (0.716) < Region (0.963)**\n",
    "\n",
    "Tidak ada faktor yang menunjukkan pengaruh signifikan terhadap Conversion Rate pada tingkat signifikansi 5%. Namun, jika dilihat dari p-value, AdSpend memiliki pengaruh relatif lebih besar (p = 0.071) dibandingkan faktor lainnya, meskipun tetap tidak signifikan. Faktor CampaignChannel (p = 0.417), CampaignType (p = 0.716), dan Region (p = 0.963) menunjukkan pengaruh yang sangat kecil terhadap variasi Conversion Rate."
   ]
  },
  {
   "cell_type": "markdown",
   "id": "5ff18751",
   "metadata": {},
   "source": [
    "**4. Who – Segmen Pelanggan Paling Responsif terhadap Campaign**"
   ]
  },
  {
   "cell_type": "code",
   "execution_count": 29,
   "id": "2a20ee94",
   "metadata": {},
   "outputs": [
    {
     "name": "stdout",
     "output_type": "stream",
     "text": [
      "AgeGroup  Gender  IncomeGroup\n",
      "35-44     Female  20-50k         0.112519\n",
      "55-64     Male    >100k          0.111385\n",
      "18-24     Male    50-100k        0.111062\n",
      "Name: ConversionRate, dtype: float64\n"
     ]
    },
    {
     "name": "stderr",
     "output_type": "stream",
     "text": [
      "/var/folders/23/qf75gzqs54g76t973jhch6yc0000gn/T/ipykernel_81270/3430635930.py:7: FutureWarning: The default of observed=False is deprecated and will be changed to True in a future version of pandas. Pass observed=False to retain current behavior or observed=True to adopt the future default and silence this warning.\n",
      "  seg_cr = df.groupby(['AgeGroup','Gender','IncomeGroup'])['ConversionRate'].mean().sort_values(ascending=False)\n"
     ]
    }
   ],
   "source": [
    "# Grouping Age & Income\n",
    "#Grouping dilakukan untuk menganalisis performa kampanye per CampaignChannel dan segmen pelanggan (Age, Gender, Income), setelah itu kita bisa lihat channel mana dan segmen mana yang paling responsif terhadap kampanye dengan menghitung avg CR masing-masing segmen.\n",
    "df['AgeGroup'] = pd.cut(df['Age'], bins=[18,24,34,44,54,64,100], labels=['18-24','25-34','35-44','45-54','55-64','65+'])\n",
    "df['IncomeGroup'] = pd.cut(df['Income'], bins=[0,5000,10000,20000,50000,100000,500000], labels=['<5k','5-10k','10-20k','20-50k','50-100k','>100k'])\n",
    "\n",
    "# Hitung average CR per segment\n",
    "seg_cr = df.groupby(['AgeGroup','Gender','IncomeGroup'])['ConversionRate'].mean().sort_values(ascending=False)\n",
    "print(seg_cr.head(3))\n"
   ]
  },
  {
   "cell_type": "markdown",
   "id": "f2930eb0",
   "metadata": {},
   "source": [
    "**Result:** Perempuan 35-44 tahun dengan gaji 20-50k adalah segmen paling responsif terhadap Campaign sehingga tim marketing bisa menargetkan segmen tsb ketika membuat campaign.\n",
    "\n",
    "Selanjutnya berikut breakdown segmen paling responsif di setiap channel:"
   ]
  },
  {
   "cell_type": "code",
   "execution_count": 30,
   "id": "b9d74f2c",
   "metadata": {},
   "outputs": [
    {
     "name": "stdout",
     "output_type": "stream",
     "text": [
      "    CampaignChannel AgeGroup  Gender IncomeGroup  ConversionRate\n",
      "213        Referral      65+    Male      20-50k        0.134358\n",
      "59            Email    55-64    Male       >100k        0.128331\n",
      "299    Social Media    18-24    Male       >100k        0.126627\n",
      "274             SEO    55-64    Male     50-100k        0.122474\n",
      "99              PPC    35-44  Female      20-50k        0.119160\n"
     ]
    },
    {
     "name": "stderr",
     "output_type": "stream",
     "text": [
      "/var/folders/23/qf75gzqs54g76t973jhch6yc0000gn/T/ipykernel_81270/2759851899.py:3: FutureWarning: The default of observed=False is deprecated and will be changed to True in a future version of pandas. Pass observed=False to retain current behavior or observed=True to adopt the future default and silence this warning.\n",
      "  df.groupby(['CampaignChannel','AgeGroup','Gender','IncomeGroup'])['ConversionRate']\n"
     ]
    }
   ],
   "source": [
    "# Grouping by Channel, AgeGroup, Gender, IncomeGroup\n",
    "channel_seg_cr = (\n",
    "    df.groupby(['CampaignChannel','AgeGroup','Gender','IncomeGroup'])['ConversionRate']\n",
    "    .mean()\n",
    "    .reset_index()\n",
    ")\n",
    "\n",
    "# Ambil segmen dengan ConversionRate tertinggi per channel\n",
    "top_segments_per_channel = (\n",
    "    channel_seg_cr.loc[channel_seg_cr.groupby('CampaignChannel')['ConversionRate'].idxmax()]\n",
    "    .sort_values(by='ConversionRate', ascending=False)\n",
    ")\n",
    "\n",
    "print(top_segments_per_channel)\n"
   ]
  },
  {
   "cell_type": "markdown",
   "id": "a70d06de",
   "metadata": {},
   "source": [
    "Dengan ini, tim marketing bisa menargetkan segmen tertentu saat melakukan campaign."
   ]
  },
  {
   "cell_type": "code",
   "execution_count": 31,
   "id": "b0a82850",
   "metadata": {},
   "outputs": [],
   "source": [
    "# Simpan ke CSV\n",
    "df.to_csv('marketing_campaign_clean.csv', index=False)"
   ]
  },
  {
   "cell_type": "markdown",
   "id": "87a8200f",
   "metadata": {},
   "source": [
    "**5. When – Periode Kampanye Paling Efektif/ Bagaimana trend campaign 1 tahun ke belakang**"
   ]
  },
  {
   "cell_type": "code",
   "execution_count": 32,
   "id": "5b30a69d",
   "metadata": {},
   "outputs": [
    {
     "name": "stdout",
     "output_type": "stream",
     "text": [
      "      Month  ConversionRate\n",
      "0   2024-06        0.105444\n",
      "1   2024-07        0.096895\n",
      "2   2024-08        0.104028\n",
      "3   2024-09        0.103933\n",
      "4   2024-10        0.105697\n",
      "5   2024-11        0.101339\n",
      "6   2024-12        0.103366\n",
      "7   2025-01        0.104281\n",
      "8   2025-02        0.104868\n",
      "9   2025-03        0.106799\n",
      "10  2025-04        0.107639\n",
      "11  2025-05        0.106066\n",
      "12  2025-06        0.106578\n"
     ]
    }
   ],
   "source": [
    "# Pastikan kolom ClickTimestamp dalam format datetime\n",
    "df['ClickTimestamp'] = pd.to_datetime(df['ClickTimestamp'])\n",
    "\n",
    "# Buat kolom bulan (format: 2025-07)\n",
    "df['Month'] = df['ClickTimestamp'].dt.to_period('M')\n",
    "\n",
    "# Hitung rata-rata ConversionRate per bulan\n",
    "avg_conversion_per_month = df.groupby('Month')['ConversionRate'].mean().reset_index()\n",
    "\n",
    "# Lihat hasil\n",
    "print(avg_conversion_per_month)\n",
    "\n"
   ]
  },
  {
   "cell_type": "code",
   "execution_count": 33,
   "id": "d83af065",
   "metadata": {},
   "outputs": [
    {
     "data": {
      "image/png": "[encoded data removed]",
      "text/plain": [
       "<Figure size 1000x600 with 1 Axes>"
      ]
     },
     "metadata": {},
     "output_type": "display_data"
    }
   ],
   "source": [
    "import matplotlib.pyplot as plt\n",
    "\n",
    "\n",
    "avg_conversion_per_month['MonthStr'] = avg_conversion_per_month['Month'].astype(str)\n",
    "\n",
    "# Plot line chart\n",
    "plt.figure(figsize=(10,6))\n",
    "plt.plot(avg_conversion_per_month['MonthStr'], avg_conversion_per_month['ConversionRate'], marker='o')\n",
    "plt.title('Rata-rata Conversion Rate per Bulan')\n",
    "plt.xlabel('Bulan')\n",
    "plt.ylabel('Conversion Rate')\n",
    "plt.xticks(rotation=45)\n",
    "plt.grid(True)\n",
    "plt.tight_layout()\n",
    "plt.show()\n"
   ]
  },
  {
   "cell_type": "markdown",
   "id": "8a8f2bc5",
   "metadata": {},
   "source": [
    "**Result:** Bulan paling efektif untuk kampanye adalah Maret 2025. Meski begitu, performa kampanye cenderung fluktuatif antar bulan, yang artinya, ada faktor lain seperti saluran kampanye dan segmen pelanggan juga berpengaruh terhadap konversi."
   ]
  },
  {
   "cell_type": "markdown",
   "id": "d037d241",
   "metadata": {},
   "source": [
    "**6. Which – Platform & Tool Iklan Paling Efektif**"
   ]
  },
  {
   "cell_type": "code",
   "execution_count": 34,
   "id": "363c784c",
   "metadata": {},
   "outputs": [
    {
     "name": "stdout",
     "output_type": "stream",
     "text": [
      "AdvertisingPlatform  AdvertisingTool          \n",
      "LinkedIn             LinkedIn Campaign Manager    0.109892\n",
      "Name: ConversionRate, dtype: float64\n"
     ]
    }
   ],
   "source": [
    "# Avg CR per platform & tool\n",
    "platform_cr = df.groupby(['AdvertisingPlatform','AdvertisingTool'])['ConversionRate'].mean().sort_values(ascending=False)\n",
    "print(platform_cr.head(1))"
   ]
  },
  {
   "cell_type": "markdown",
   "id": "7ee99009",
   "metadata": {},
   "source": [
    "**Result:** Ads Platform dan tools yang paling tinggi CRnya adalah Twitter, sehingga tim marketing bisa mengoptimalisasi penggunaan platform dan tools tsb. "
   ]
  },
  {
   "cell_type": "markdown",
   "id": "8534808a",
   "metadata": {},
   "source": [
    "**KESIMPULAN UTAMA**\n",
    "\n",
    "Analisis data ShopEZ menunjukkan bahwa pengeluaran iklan sangat bervariasi, dengan rata-rata sekitar 5.000 USD per kampanye. Meskipun rata-rata Conversion Rate cukup stabil di 10,4%, variasinya besar sehingga strategi pemasaran tidak bisa disamaratakan. Social Media menjadi channel dengan performa terbaik, sedangkan faktor jenis kampanye tidak signifikan memengaruhi konversi. Segmentasi pelanggan dan pemilihan platform memiliki dampak besar terhadap efektivitas kampanye, sehingga keduanya perlu menjadi fokus utama optimasi.\n",
    "\n",
    "**Key Points Hasil Analisis**\n",
    "\n",
    "1. Pengeluaran Iklan (AdSpend):\n",
    "- Rata-rata pengeluaran iklan berada di kisaran 5.000 USD per kampanye, yang menunjukkan bahwa sebagian besar kampanye dijalankan dengan anggaran menengah.\n",
    "- Variansi yang tinggi (hampir 9.898 USD antara minimum dan maksimum) menandakan adanya ketidakseimbangan pengalokasian budget, sehingga pengaturan ulang prioritas channel dan segmen sangat penting.\n",
    "- Karena distribusi median mendekati mean, sebagian besar kampanye konsisten, namun beberapa outlier dengan biaya tinggi perlu dievaluasi dampak ROI-nya.\n",
    "\n",
    "2. Conversion Rate (CR):\n",
    "- Rata-rata CR sebesar 10,44% menunjukkan performa kampanye cukup baik, namun adanya variasi besar (range 0.1899) mengindikasikan bahwa efektivitas sangat bergantung pada channel dan segmen tertentu.\n",
    "- Distribusi CR yang seimbang (median mendekati mean) menandakan tidak ada bias besar, tetapi strategi personalisasi dapat meningkatkan CR di segmen yang saat ini underperform.\n",
    "\n",
    "3. Channel Performance:\n",
    "Social Media menempati posisi teratas dengan CR rata-rata 10,6%, menjadikannya channel paling potensial untuk dialokasikan lebih banyak anggaran dan pengembangan konten kreatif yang engaging.\n",
    "\n",
    "4. Hasil Uji Statistik:\n",
    "- ANOVA menunjukkan tidak ada perbedaan signifikan antar jenis kampanye (p = 0.716), sehingga pemilihan tipe kampanye (Awareness, Retention, Conversion) tidak perlu menjadi prioritas utama.\n",
    "- Uji T memperlihatkan bahwa pelanggan dengan Loyalty Points tinggi memiliki CR jauh lebih besar dibanding pelanggan biasa, sehingga strategi retargeting berbasis loyalitas akan memberikan dampak positif yang signifikan.\n",
    "\n",
    "5. Faktor yang Mempengaruhi CR:\n",
    "Tidak ada faktor yang signifikan, namun AdSpend (p=0.071) memiliki pengaruh relatif lebih besar daripada faktor lainnya. Hal ini menunjukkan bahwa pengelolaan budget tetap penting untuk menjaga efektivitas konversi.\n",
    "\n",
    "6. Segmentasi Pelanggan Responsif:\n",
    "- Secara umum, perempuan berusia 35–44 dengan pendapatan 20–50k adalah segmen paling responsif, sehingga mereka dapat dijadikan target prioritas dalam kampanye berbayar.\n",
    "- Namun, setiap channel memiliki segmen unggulan yang berbeda, misalnya: Referral unggul di laki-laki usia 65+ berpenghasilan 20–50k (CR = 13,4%), sedangkan Social Media unggul di laki-laki 18–24 berpenghasilan >100k (CR = 12,6%). Strategi personalisasi per channel akan meningkatkan ROI kampanye.\n",
    "\n",
    "7. Waktu & Platform:\n",
    "- Maret 2025 adalah bulan dengan performa terbaik, sehingga bulan ini dapat dimanfaatkan untuk campaign besar seperti product launch atau promosi khusus.\n",
    "- Twitter menjadi platform paling efektif dengan CR tertinggi, sehingga konten yang disesuaikan untuk Twitter Ads dapat memaksimalkan konversi."
   ]
  },
  {
   "cell_type": "markdown",
   "id": "c4f981ae",
   "metadata": {},
   "source": [
    "**REKOMENDASI**\n",
    "\n",
    "1. Channel Optimization\n",
    "- Fokus pada Social Media sebagai channel utama karena memiliki rata-rata CR tertinggi (10,6%). \n",
    "- Pertahankan channel Referral & Email dengan pendekatan personalisasi karena channel ini menonjol pada segmen tertentu (misalnya Referral efektif untuk segmen senior high-income).\n",
    "\n",
    "2. Budget Allocation\n",
    "- Evaluasi pengeluaran campaign selanjutnya dengan ROI tracking, terutama pada kampanye yang menggunakan anggaran besar tetapi tidak menghasilkan konversi tinggi.\n",
    "- Pertimbangkan shifting budget dari channel rendah performa (PPC) ke Social Media dan Referral, agar dana digunakan untuk saluran yang memberikan dampak konversi lebih besar.\n",
    "\n",
    "3. Segmentation Strategy\n",
    "- Targetkan segmen prioritas utama: perempuan usia 35–44 dengan pendapatan 20–50k, karena mereka menunjukkan respons tertinggi terhadap kampanye.\n",
    "- Personalisasi berdasarkan channel: misalnya, gunakan Social Media untuk menjangkau laki-laki 18–24 dengan penghasilan >100k, dan gunakan Referral untuk pria 65+ dengan penghasilan menengah. Ini akan meningkatkan CR pada tiap channel.\n",
    "- Gunakan program loyalitas untuk meningkatkan retensi, karena pelanggan dengan Loyalty Points tinggi terbukti memiliki CR jauh lebih besar (90% vs 86%).\n",
    "\n",
    "4. Timing & Seasonality\n",
    "- Optimalkan kampanye besar pada bulan Maret, karena periode ini menunjukkan performa tertinggi. Pertimbangkan event promosi seperti diskon besar, flash sale, atau peluncuran produk di bulan ini.\n",
    "- Analisis lebih lanjut pola musiman, agar kampanye dapat disesuaikan dengan tren bulanan (misalnya liburan, hari gajian, atau perayaan tertentu).\n",
    "\n",
    "5. Platform Focus\n",
    "- Prioritaskan Twitter Ads sebagai platform utama karena memiliki CR tertinggi dibanding platform lain. Kembangkan konten interaktif seperti polling, thread informatif, dan visual singkat untuk meningkatkan engagement.\n",
    "- Eksperimen dengan iklan video pendek di platform Social Media lainnya untuk menjaga daya tarik audiens muda yang mendominasi saluran ini."
   ]
  }
 ],
 "metadata": {
  "kernelspec": {
   "display_name": "base",
   "language": "python",
   "name": "python3"
  },
  "language_info": {
   "codemirror_mode": {
    "name": "ipython",
    "version": 3
   },
   "file_extension": ".py",
   "mimetype": "text/x-python",
   "name": "python",
   "nbconvert_exporter": "python",
   "pygments_lexer": "ipython3",
   "version": "3.13.5"
  }
 },
 "nbformat": 4,
 "nbformat_minor": 5
}
