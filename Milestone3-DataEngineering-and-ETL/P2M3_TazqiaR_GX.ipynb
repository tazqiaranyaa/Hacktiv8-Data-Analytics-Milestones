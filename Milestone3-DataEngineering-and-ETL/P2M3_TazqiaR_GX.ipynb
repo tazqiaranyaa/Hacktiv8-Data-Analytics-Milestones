{
 "cells": [
  {
   "cell_type": "markdown",
   "id": "3d80355f",
   "metadata": {},
   "source": [
    "Milestones 3\n",
    "\n",
    "Nama: Tazqia Ranyanisha A\n",
    "\n",
    "Batch: CODA-RMT-008\n",
    "\n",
    "\n",
    "Program ini bertujuan untuk menerapkan konsep validasi, eksplorasi, dan pembersihan data menggunakan Python dan PySpark, sekaligus mengotomasi proses ETL dengan Airflow agar alur analisis data menjadi lebih efisien.\n",
    "\n",
    "Link PPT: https://docs.google.com/presentation/d/18nDG6Y8enVH4ywTpDfKehhyIOKqnQXIM/edit?usp=sharing&ouid=102360167114929655326&rtpof=true&sd=true\n",
    "\n",
    "\n",
    "Link dataset: https://www.kaggle.com/datasets/ahsan81/superstore-marketing-campaign-dataset"
   ]
  },
  {
   "cell_type": "markdown",
   "id": "ed1b27ce",
   "metadata": {},
   "source": [
    "# Superstore\n",
    "\n",
    "Superstore adalah sebuah platform ritel yang sedang mempersiapkan campaign promosi akhir tahun. \n",
    "\n",
    "## Business Goal\n",
    "Perusahaan berusaha memaksimalkan dampak campaign promosi dengan menargetkan pelanggan yang paling mungkin merespon positif.\n",
    "\n",
    "## Challenge\n",
    "Seiring bertambahnya basis pelanggan, volume data meningkat sehingga pengelolaan manual menjadi tidak efisien dan rawan kesalahan.\n",
    "\n",
    "## Solusi\n",
    "- Pembersihan dan transformasi data menggunakan **PySpark**  \n",
    "- Penyimpanan hasil ke **MongoDB**  \n",
    "- Otomatisasi pipeline dengan **Airflow**\n",
    "\n",
    "## Atribut (features)\n",
    "| Atribut               | Deskripsi |\n",
    "|-----------------------|-----------|\n",
    "| **Response (target)** | 1 = pelanggan menerima tawaran pada kampanye terakhir, 0 = sebaliknya |\n",
    "| **ID**                | Identifier unik tiap pelanggan |\n",
    "| **Year_Birth**        | Tahun lahir (untuk menghitung umur) |\n",
    "| **Complain**          | 1 = pelanggan mengajukan komplain dalam 2 tahun terakhir |\n",
    "| **Dt_Customer**       | Tanggal pendaftaran pelanggan pada perusahaan |\n",
    "| **Education**         | Tingkat pendidikan pelanggan |\n",
    "| **Marital**           | Status pernikahan pelanggan |\n",
    "| **Kidhome**           | Jumlah anak kecil di rumah |\n",
    "| **Teenhome**          | Jumlah remaja di rumah |\n",
    "| **Income**            | Pendapatan rumah tangga per tahun |\n",
    "| **MntFishProducts**   | Jumlah pengeluaran untuk produk ikan (2 tahun terakhir) |\n",
    "| **MntMeatProducts**   | Jumlah pengeluaran untuk produk daging (2 tahun terakhir) |\n",
    "| **MntFruits**         | Jumlah pengeluaran untuk buah (2 tahun terakhir) |\n",
    "| **MntSweetProducts**  | Jumlah pengeluaran untuk produk manis (2 tahun terakhir) |\n",
    "| **MntWines**          | Jumlah pengeluaran untuk wine (2 tahun terakhir) |\n",
    "| **MntGoldProds**      | Jumlah pengeluaran untuk produk emas (2 tahun terakhir) |\n",
    "| **NumDealsPurchases** | Jumlah pembelian dengan diskon |\n",
    "| **NumCatalogPurchases** | Jumlah pembelian via katalog (order kirim pos) |\n",
    "| **NumStorePurchases** | Jumlah pembelian langsung di toko |\n",
    "| **NumWebPurchases**   | Jumlah pembelian melalui website |\n",
    "| **NumWebVisitsMonth** | Jumlah kunjungan ke website dalam 1 bulan terakhir |\n",
    "| **Recency**           | Jumlah hari sejak pembelian terakhir |\n",
    "\n"
   ]
  },
  {
   "cell_type": "code",
   "execution_count": 1,
   "id": "e6b713e5-4111-4fa9-85fa-4391ec13601f",
   "metadata": {},
   "outputs": [
    {
     "data": {
      "text/html": [
       "\n",
       "        <div>\n",
       "            <p><b>SparkContext</b></p>\n",
       "\n",
       "            <p><a href=\"http://0e1ac3f7aa51:4040\">Spark UI</a></p>\n",
       "\n",
       "            <dl>\n",
       "              <dt>Version</dt>\n",
       "                <dd><code>v4.0.0</code></dd>\n",
       "              <dt>Master</dt>\n",
       "                <dd><code>local[*]</code></dd>\n",
       "              <dt>AppName</dt>\n",
       "                <dd><code>pyspark-shell</code></dd>\n",
       "            </dl>\n",
       "        </div>\n",
       "        "
      ],
      "text/plain": [
       "<SparkContext master=local[*] appName=pyspark-shell>"
      ]
     },
     "execution_count": 1,
     "metadata": {},
     "output_type": "execute_result"
    }
   ],
   "source": [
    "import pyspark\n",
    "sc = pyspark.SparkContext()\n",
    "sc"
   ]
  },
  {
   "cell_type": "code",
   "execution_count": 2,
   "id": "8c465504-759e-47be-aa96-f50bc65a996e",
   "metadata": {},
   "outputs": [
    {
     "data": {
      "text/html": [
       "\n",
       "            <div>\n",
       "                <p><b>SparkSession - in-memory</b></p>\n",
       "                \n",
       "        <div>\n",
       "            <p><b>SparkContext</b></p>\n",
       "\n",
       "            <p><a href=\"http://0e1ac3f7aa51:4040\">Spark UI</a></p>\n",
       "\n",
       "            <dl>\n",
       "              <dt>Version</dt>\n",
       "                <dd><code>v4.0.0</code></dd>\n",
       "              <dt>Master</dt>\n",
       "                <dd><code>local[*]</code></dd>\n",
       "              <dt>AppName</dt>\n",
       "                <dd><code>pyspark-shell</code></dd>\n",
       "            </dl>\n",
       "        </div>\n",
       "        \n",
       "            </div>\n",
       "        "
      ],
      "text/plain": [
       "<pyspark.sql.session.SparkSession at 0xffff469dfa10>"
      ]
     },
     "execution_count": 2,
     "metadata": {},
     "output_type": "execute_result"
    }
   ],
   "source": [
    "from pyspark.sql import SparkSession\n",
    "\n",
    "# Initialize Spark Session\n",
    "spark = SparkSession.builder \\\n",
    "    .appName(\"WriteToPostgres\") \\\n",
    "    .config(\"spark.jars.packages\", \"org.postgresql:postgresql:42.6.0\") \\\n",
    "    .getOrCreate()\n",
    "spark"
   ]
  },
  {
   "cell_type": "code",
   "execution_count": 3,
   "id": "8ca93253-5b24-411e-add9-b594859e0330",
   "metadata": {},
   "outputs": [
    {
     "data": {
      "text/html": [
       "<div>\n",
       "<style scoped>\n",
       "    .dataframe tbody tr th:only-of-type {\n",
       "        vertical-align: middle;\n",
       "    }\n",
       "\n",
       "    .dataframe tbody tr th {\n",
       "        vertical-align: top;\n",
       "    }\n",
       "\n",
       "    .dataframe thead th {\n",
       "        text-align: right;\n",
       "    }\n",
       "</style>\n",
       "<table border=\"1\" class=\"dataframe\">\n",
       "  <thead>\n",
       "    <tr style=\"text-align: right;\">\n",
       "      <th></th>\n",
       "      <th>Id</th>\n",
       "      <th>Year_Birth</th>\n",
       "      <th>Education</th>\n",
       "      <th>Marital_Status</th>\n",
       "      <th>Income</th>\n",
       "      <th>Kidhome</th>\n",
       "      <th>Teenhome</th>\n",
       "      <th>Dt_Customer</th>\n",
       "      <th>Recency</th>\n",
       "      <th>MntWines</th>\n",
       "      <th>...</th>\n",
       "      <th>MntFishProducts</th>\n",
       "      <th>MntSweetProducts</th>\n",
       "      <th>MntGoldProds</th>\n",
       "      <th>NumDealsPurchases</th>\n",
       "      <th>NumWebPurchases</th>\n",
       "      <th>NumCatalogPurchases</th>\n",
       "      <th>NumStorePurchases</th>\n",
       "      <th>NumWebVisitsMonth</th>\n",
       "      <th>Response</th>\n",
       "      <th>Complain</th>\n",
       "    </tr>\n",
       "  </thead>\n",
       "  <tbody>\n",
       "    <tr>\n",
       "      <th>0</th>\n",
       "      <td>1826</td>\n",
       "      <td>1970</td>\n",
       "      <td>Graduation</td>\n",
       "      <td>Divorced</td>\n",
       "      <td>84835</td>\n",
       "      <td>0</td>\n",
       "      <td>0</td>\n",
       "      <td>6/16/2014</td>\n",
       "      <td>0</td>\n",
       "      <td>189</td>\n",
       "      <td>...</td>\n",
       "      <td>111</td>\n",
       "      <td>189</td>\n",
       "      <td>218</td>\n",
       "      <td>1</td>\n",
       "      <td>4</td>\n",
       "      <td>4</td>\n",
       "      <td>6</td>\n",
       "      <td>1</td>\n",
       "      <td>1</td>\n",
       "      <td>0</td>\n",
       "    </tr>\n",
       "    <tr>\n",
       "      <th>1</th>\n",
       "      <td>1</td>\n",
       "      <td>1961</td>\n",
       "      <td>Graduation</td>\n",
       "      <td>Single</td>\n",
       "      <td>57091</td>\n",
       "      <td>0</td>\n",
       "      <td>0</td>\n",
       "      <td>6/15/2014</td>\n",
       "      <td>0</td>\n",
       "      <td>464</td>\n",
       "      <td>...</td>\n",
       "      <td>7</td>\n",
       "      <td>0</td>\n",
       "      <td>37</td>\n",
       "      <td>1</td>\n",
       "      <td>7</td>\n",
       "      <td>3</td>\n",
       "      <td>7</td>\n",
       "      <td>5</td>\n",
       "      <td>1</td>\n",
       "      <td>0</td>\n",
       "    </tr>\n",
       "    <tr>\n",
       "      <th>2</th>\n",
       "      <td>10476</td>\n",
       "      <td>1958</td>\n",
       "      <td>Graduation</td>\n",
       "      <td>Married</td>\n",
       "      <td>67267</td>\n",
       "      <td>0</td>\n",
       "      <td>1</td>\n",
       "      <td>5/13/2014</td>\n",
       "      <td>0</td>\n",
       "      <td>134</td>\n",
       "      <td>...</td>\n",
       "      <td>15</td>\n",
       "      <td>2</td>\n",
       "      <td>30</td>\n",
       "      <td>1</td>\n",
       "      <td>3</td>\n",
       "      <td>2</td>\n",
       "      <td>5</td>\n",
       "      <td>2</td>\n",
       "      <td>0</td>\n",
       "      <td>0</td>\n",
       "    </tr>\n",
       "    <tr>\n",
       "      <th>3</th>\n",
       "      <td>1386</td>\n",
       "      <td>1967</td>\n",
       "      <td>Graduation</td>\n",
       "      <td>Together</td>\n",
       "      <td>32474</td>\n",
       "      <td>1</td>\n",
       "      <td>1</td>\n",
       "      <td>11/5/2014</td>\n",
       "      <td>0</td>\n",
       "      <td>10</td>\n",
       "      <td>...</td>\n",
       "      <td>0</td>\n",
       "      <td>0</td>\n",
       "      <td>0</td>\n",
       "      <td>1</td>\n",
       "      <td>1</td>\n",
       "      <td>0</td>\n",
       "      <td>2</td>\n",
       "      <td>7</td>\n",
       "      <td>0</td>\n",
       "      <td>0</td>\n",
       "    </tr>\n",
       "    <tr>\n",
       "      <th>4</th>\n",
       "      <td>5371</td>\n",
       "      <td>1989</td>\n",
       "      <td>Graduation</td>\n",
       "      <td>Single</td>\n",
       "      <td>21474</td>\n",
       "      <td>1</td>\n",
       "      <td>0</td>\n",
       "      <td>8/4/2014</td>\n",
       "      <td>0</td>\n",
       "      <td>6</td>\n",
       "      <td>...</td>\n",
       "      <td>11</td>\n",
       "      <td>0</td>\n",
       "      <td>34</td>\n",
       "      <td>2</td>\n",
       "      <td>3</td>\n",
       "      <td>1</td>\n",
       "      <td>2</td>\n",
       "      <td>7</td>\n",
       "      <td>1</td>\n",
       "      <td>0</td>\n",
       "    </tr>\n",
       "    <tr>\n",
       "      <th>5</th>\n",
       "      <td>7348</td>\n",
       "      <td>1958</td>\n",
       "      <td>PhD</td>\n",
       "      <td>Single</td>\n",
       "      <td>71691</td>\n",
       "      <td>0</td>\n",
       "      <td>0</td>\n",
       "      <td>3/17/2014</td>\n",
       "      <td>0</td>\n",
       "      <td>336</td>\n",
       "      <td>...</td>\n",
       "      <td>240</td>\n",
       "      <td>32</td>\n",
       "      <td>43</td>\n",
       "      <td>1</td>\n",
       "      <td>4</td>\n",
       "      <td>7</td>\n",
       "      <td>5</td>\n",
       "      <td>2</td>\n",
       "      <td>1</td>\n",
       "      <td>0</td>\n",
       "    </tr>\n",
       "    <tr>\n",
       "      <th>6</th>\n",
       "      <td>4073</td>\n",
       "      <td>1954</td>\n",
       "      <td>2n Cycle</td>\n",
       "      <td>Married</td>\n",
       "      <td>63564</td>\n",
       "      <td>0</td>\n",
       "      <td>0</td>\n",
       "      <td>1/29/2014</td>\n",
       "      <td>0</td>\n",
       "      <td>769</td>\n",
       "      <td>...</td>\n",
       "      <td>15</td>\n",
       "      <td>34</td>\n",
       "      <td>65</td>\n",
       "      <td>1</td>\n",
       "      <td>10</td>\n",
       "      <td>10</td>\n",
       "      <td>7</td>\n",
       "      <td>6</td>\n",
       "      <td>1</td>\n",
       "      <td>0</td>\n",
       "    </tr>\n",
       "    <tr>\n",
       "      <th>7</th>\n",
       "      <td>1991</td>\n",
       "      <td>1967</td>\n",
       "      <td>Graduation</td>\n",
       "      <td>Together</td>\n",
       "      <td>44931</td>\n",
       "      <td>0</td>\n",
       "      <td>1</td>\n",
       "      <td>1/18/2014</td>\n",
       "      <td>0</td>\n",
       "      <td>78</td>\n",
       "      <td>...</td>\n",
       "      <td>0</td>\n",
       "      <td>0</td>\n",
       "      <td>7</td>\n",
       "      <td>1</td>\n",
       "      <td>2</td>\n",
       "      <td>1</td>\n",
       "      <td>3</td>\n",
       "      <td>5</td>\n",
       "      <td>0</td>\n",
       "      <td>0</td>\n",
       "    </tr>\n",
       "    <tr>\n",
       "      <th>8</th>\n",
       "      <td>4047</td>\n",
       "      <td>1954</td>\n",
       "      <td>PhD</td>\n",
       "      <td>Married</td>\n",
       "      <td>65324</td>\n",
       "      <td>0</td>\n",
       "      <td>1</td>\n",
       "      <td>11/1/2014</td>\n",
       "      <td>0</td>\n",
       "      <td>384</td>\n",
       "      <td>...</td>\n",
       "      <td>21</td>\n",
       "      <td>32</td>\n",
       "      <td>5</td>\n",
       "      <td>3</td>\n",
       "      <td>6</td>\n",
       "      <td>2</td>\n",
       "      <td>9</td>\n",
       "      <td>4</td>\n",
       "      <td>0</td>\n",
       "      <td>0</td>\n",
       "    </tr>\n",
       "    <tr>\n",
       "      <th>9</th>\n",
       "      <td>9477</td>\n",
       "      <td>1954</td>\n",
       "      <td>PhD</td>\n",
       "      <td>Married</td>\n",
       "      <td>65324</td>\n",
       "      <td>0</td>\n",
       "      <td>1</td>\n",
       "      <td>11/1/2014</td>\n",
       "      <td>0</td>\n",
       "      <td>384</td>\n",
       "      <td>...</td>\n",
       "      <td>21</td>\n",
       "      <td>32</td>\n",
       "      <td>5</td>\n",
       "      <td>3</td>\n",
       "      <td>6</td>\n",
       "      <td>2</td>\n",
       "      <td>9</td>\n",
       "      <td>4</td>\n",
       "      <td>0</td>\n",
       "      <td>0</td>\n",
       "    </tr>\n",
       "  </tbody>\n",
       "</table>\n",
       "<p>10 rows × 22 columns</p>\n",
       "</div>"
      ],
      "text/plain": [
       "      Id  Year_Birth   Education Marital_Status  Income  Kidhome  Teenhome  \\\n",
       "0   1826        1970  Graduation       Divorced   84835        0         0   \n",
       "1      1        1961  Graduation         Single   57091        0         0   \n",
       "2  10476        1958  Graduation        Married   67267        0         1   \n",
       "3   1386        1967  Graduation       Together   32474        1         1   \n",
       "4   5371        1989  Graduation         Single   21474        1         0   \n",
       "5   7348        1958         PhD         Single   71691        0         0   \n",
       "6   4073        1954    2n Cycle        Married   63564        0         0   \n",
       "7   1991        1967  Graduation       Together   44931        0         1   \n",
       "8   4047        1954         PhD        Married   65324        0         1   \n",
       "9   9477        1954         PhD        Married   65324        0         1   \n",
       "\n",
       "  Dt_Customer  Recency  MntWines  ...  MntFishProducts  MntSweetProducts  \\\n",
       "0   6/16/2014        0       189  ...              111               189   \n",
       "1   6/15/2014        0       464  ...                7                 0   \n",
       "2   5/13/2014        0       134  ...               15                 2   \n",
       "3   11/5/2014        0        10  ...                0                 0   \n",
       "4    8/4/2014        0         6  ...               11                 0   \n",
       "5   3/17/2014        0       336  ...              240                32   \n",
       "6   1/29/2014        0       769  ...               15                34   \n",
       "7   1/18/2014        0        78  ...                0                 0   \n",
       "8   11/1/2014        0       384  ...               21                32   \n",
       "9   11/1/2014        0       384  ...               21                32   \n",
       "\n",
       "   MntGoldProds  NumDealsPurchases  NumWebPurchases  NumCatalogPurchases  \\\n",
       "0           218                  1                4                    4   \n",
       "1            37                  1                7                    3   \n",
       "2            30                  1                3                    2   \n",
       "3             0                  1                1                    0   \n",
       "4            34                  2                3                    1   \n",
       "5            43                  1                4                    7   \n",
       "6            65                  1               10                   10   \n",
       "7             7                  1                2                    1   \n",
       "8             5                  3                6                    2   \n",
       "9             5                  3                6                    2   \n",
       "\n",
       "   NumStorePurchases  NumWebVisitsMonth  Response  Complain  \n",
       "0                  6                  1         1         0  \n",
       "1                  7                  5         1         0  \n",
       "2                  5                  2         0         0  \n",
       "3                  2                  7         0         0  \n",
       "4                  2                  7         1         0  \n",
       "5                  5                  2         1         0  \n",
       "6                  7                  6         1         0  \n",
       "7                  3                  5         0         0  \n",
       "8                  9                  4         0         0  \n",
       "9                  9                  4         0         0  \n",
       "\n",
       "[10 rows x 22 columns]"
      ]
     },
     "execution_count": 3,
     "metadata": {},
     "output_type": "execute_result"
    }
   ],
   "source": [
    "# Baca file CSV\n",
    "file_path = \"superstore_data.csv\"   \n",
    "df = spark.read.csv(file_path, header=True, inferSchema=True)\n",
    "\n",
    "df.limit(10).toPandas()"
   ]
  },
  {
   "cell_type": "code",
   "execution_count": 4,
   "id": "f5f545b1-0915-42a2-9c61-98c1995b63cd",
   "metadata": {},
   "outputs": [
    {
     "name": "stdout",
     "output_type": "stream",
     "text": [
      "root\n",
      " |-- Id: integer (nullable = true)\n",
      " |-- Year_Birth: integer (nullable = true)\n",
      " |-- Education: string (nullable = true)\n",
      " |-- Marital_Status: string (nullable = true)\n",
      " |-- Income: integer (nullable = true)\n",
      " |-- Kidhome: integer (nullable = true)\n",
      " |-- Teenhome: integer (nullable = true)\n",
      " |-- Dt_Customer: string (nullable = true)\n",
      " |-- Recency: integer (nullable = true)\n",
      " |-- MntWines: integer (nullable = true)\n",
      " |-- MntFruits: integer (nullable = true)\n",
      " |-- MntMeatProducts: integer (nullable = true)\n",
      " |-- MntFishProducts: integer (nullable = true)\n",
      " |-- MntSweetProducts: integer (nullable = true)\n",
      " |-- MntGoldProds: integer (nullable = true)\n",
      " |-- NumDealsPurchases: integer (nullable = true)\n",
      " |-- NumWebPurchases: integer (nullable = true)\n",
      " |-- NumCatalogPurchases: integer (nullable = true)\n",
      " |-- NumStorePurchases: integer (nullable = true)\n",
      " |-- NumWebVisitsMonth: integer (nullable = true)\n",
      " |-- Response: integer (nullable = true)\n",
      " |-- Complain: integer (nullable = true)\n",
      "\n",
      "Rows: 2240, Columns: 22\n"
     ]
    }
   ],
   "source": [
    "# Lihat struktur schema \n",
    "df.printSchema()\n",
    "\n",
    "# Hitung jumlah baris dan kolom\n",
    "print(f\"Rows: {df.count()}, Columns: {len(df.columns)}\")"
   ]
  },
  {
   "cell_type": "code",
   "execution_count": 5,
   "id": "76043893-0345-4974-9362-eddbeff6b591",
   "metadata": {
    "scrolled": true
   },
   "outputs": [
    {
     "name": "stdout",
     "output_type": "stream",
     "text": [
      "+---+----------+---------+--------------+------+-------+--------+-----------+-------+--------+---------+---------------+---------------+----------------+------------+-----------------+---------------+-------------------+-----------------+-----------------+--------+--------+\n",
      "| Id|Year_Birth|Education|Marital_Status|Income|Kidhome|Teenhome|Dt_Customer|Recency|MntWines|MntFruits|MntMeatProducts|MntFishProducts|MntSweetProducts|MntGoldProds|NumDealsPurchases|NumWebPurchases|NumCatalogPurchases|NumStorePurchases|NumWebVisitsMonth|Response|Complain|\n",
      "+---+----------+---------+--------------+------+-------+--------+-----------+-------+--------+---------+---------------+---------------+----------------+------------+-----------------+---------------+-------------------+-----------------+-----------------+--------+--------+\n",
      "|  0|         0|        0|             0|    24|      0|       0|          0|      0|       0|        0|              0|              0|               0|           0|                0|              0|                  0|                0|                0|       0|       0|\n",
      "+---+----------+---------+--------------+------+-------+--------+-----------+-------+--------+---------+---------------+---------------+----------------+------------+-----------------+---------------+-------------------+-----------------+-----------------+--------+--------+\n",
      "\n"
     ]
    }
   ],
   "source": [
    "#  Cek Missing Values\n",
    "\n",
    "from pyspark.sql.functions import col, sum\n",
    "\n",
    "# Hitung jumlah nilai null per kolom\n",
    "df.select([sum(col(c).isNull().cast(\"int\")).alias(c) for c in df.columns]).show()\n"
   ]
  },
  {
   "cell_type": "code",
   "execution_count": 6,
   "id": "9e5c8270-616d-45f0-92a9-21d4841e8ae9",
   "metadata": {},
   "outputs": [],
   "source": [
    "df = df.dropna(subset=['Income'])"
   ]
  },
  {
   "cell_type": "code",
   "execution_count": 7,
   "id": "7f4bab2c-b817-4b1c-9e1f-7557431a55ae",
   "metadata": {},
   "outputs": [
    {
     "name": "stdout",
     "output_type": "stream",
     "text": [
      "root\n",
      " |-- Id: integer (nullable = true)\n",
      " |-- Year_Birth: integer (nullable = true)\n",
      " |-- Education: string (nullable = true)\n",
      " |-- Marital_Status: string (nullable = true)\n",
      " |-- Income: integer (nullable = true)\n",
      " |-- Kidhome: integer (nullable = true)\n",
      " |-- Teenhome: integer (nullable = true)\n",
      " |-- Dt_Customer: string (nullable = true)\n",
      " |-- Recency: integer (nullable = true)\n",
      " |-- MntWines: integer (nullable = true)\n",
      " |-- MntFruits: integer (nullable = true)\n",
      " |-- MntMeatProducts: integer (nullable = true)\n",
      " |-- MntFishProducts: integer (nullable = true)\n",
      " |-- MntSweetProducts: integer (nullable = true)\n",
      " |-- MntGoldProds: integer (nullable = true)\n",
      " |-- NumDealsPurchases: integer (nullable = true)\n",
      " |-- NumWebPurchases: integer (nullable = true)\n",
      " |-- NumCatalogPurchases: integer (nullable = true)\n",
      " |-- NumStorePurchases: integer (nullable = true)\n",
      " |-- NumWebVisitsMonth: integer (nullable = true)\n",
      " |-- Response: integer (nullable = true)\n",
      " |-- Complain: integer (nullable = true)\n",
      "\n"
     ]
    }
   ],
   "source": [
    "# Cek schema\n",
    "df.printSchema()"
   ]
  },
  {
   "cell_type": "code",
   "execution_count": 8,
   "id": "5383c1d2-a31f-43c2-990c-e68c1720e9fb",
   "metadata": {},
   "outputs": [
    {
     "name": "stdout",
     "output_type": "stream",
     "text": [
      "root\n",
      " |-- Id: integer (nullable = true)\n",
      " |-- Year_Birth: integer (nullable = true)\n",
      " |-- Education: string (nullable = true)\n",
      " |-- Marital_Status: string (nullable = true)\n",
      " |-- Income: integer (nullable = true)\n",
      " |-- Kidhome: integer (nullable = true)\n",
      " |-- Teenhome: integer (nullable = true)\n",
      " |-- Dt_Customer: date (nullable = true)\n",
      " |-- Recency: integer (nullable = true)\n",
      " |-- MntWines: integer (nullable = true)\n",
      " |-- MntFruits: integer (nullable = true)\n",
      " |-- MntMeatProducts: integer (nullable = true)\n",
      " |-- MntFishProducts: integer (nullable = true)\n",
      " |-- MntSweetProducts: integer (nullable = true)\n",
      " |-- MntGoldProds: integer (nullable = true)\n",
      " |-- NumDealsPurchases: integer (nullable = true)\n",
      " |-- NumWebPurchases: integer (nullable = true)\n",
      " |-- NumCatalogPurchases: integer (nullable = true)\n",
      " |-- NumStorePurchases: integer (nullable = true)\n",
      " |-- NumWebVisitsMonth: integer (nullable = true)\n",
      " |-- Response: integer (nullable = true)\n",
      " |-- Complain: integer (nullable = true)\n",
      "\n"
     ]
    }
   ],
   "source": [
    "from pyspark.sql.functions import to_date, col\n",
    "# Ubah Dt_Customer ke tipe Date (format: bulan/hari/tahun)\n",
    "df = df.withColumn(\"Dt_Customer\", to_date(col(\"Dt_Customer\"), \"M/d/yyyy\"))\n",
    "df.printSchema()"
   ]
  },
  {
   "cell_type": "code",
   "execution_count": 9,
   "id": "9c81bbd0-ffd8-4d66-b80e-e20a3b50cd45",
   "metadata": {},
   "outputs": [
    {
     "name": "stdout",
     "output_type": "stream",
     "text": [
      "+-----+---+\n",
      "|   Id|Age|\n",
      "+-----+---+\n",
      "| 1826| 55|\n",
      "|    1| 64|\n",
      "|10476| 67|\n",
      "| 1386| 58|\n",
      "| 5371| 36|\n",
      "| 7348| 67|\n",
      "| 4073| 71|\n",
      "| 1991| 58|\n",
      "| 4047| 71|\n",
      "| 9477| 71|\n",
      "+-----+---+\n",
      "only showing top 10 rows\n"
     ]
    }
   ],
   "source": [
    "from pyspark.sql.functions import lit, col\n",
    "\n",
    "# Tambah kolom Age (2025 - Year_Birth)\n",
    "df = df.withColumn(\"Age\", lit(2025) - col(\"Year_Birth\"))\n",
    "\n",
    "# Drop kolom Year_Birth\n",
    "df = df.drop(\"Year_Birth\")\n",
    "\n",
    "# Cek hasil\n",
    "df.select(\"Id\", \"Age\").show(10)\n"
   ]
  },
  {
   "cell_type": "code",
   "execution_count": 10,
   "id": "c3843bfb-4fc8-4a34-b6d2-fa785943e2b1",
   "metadata": {
    "scrolled": true
   },
   "outputs": [
    {
     "name": "stdout",
     "output_type": "stream",
     "text": [
      "+-----+---+\n",
      "|   Id|Age|\n",
      "+-----+---+\n",
      "| 1826| 55|\n",
      "|    1| 64|\n",
      "|10476| 67|\n",
      "| 1386| 58|\n",
      "| 5371| 36|\n",
      "+-----+---+\n",
      "only showing top 5 rows\n"
     ]
    }
   ],
   "source": [
    "from pyspark.sql.functions import col\n",
    "\n",
    "\n",
    "# Filter data: drop semua baris yang Age > 95\n",
    "df = df.filter(col(\"Age\") <= 95)\n",
    "\n",
    "# Cek hasil\n",
    "df.select(\"Id\", \"Age\").show(5)"
   ]
  },
  {
   "cell_type": "code",
   "execution_count": 11,
   "id": "fa87582b-63bc-4a87-9a63-9ac2230933e2",
   "metadata": {},
   "outputs": [
    {
     "data": {
      "text/plain": [
       "DataFrame[Id: int, Education: string, Marital_Status: string, Income: int, Kidhome: int, Teenhome: int, Dt_Customer: date, Recency: int, MntWines: int, MntFruits: int, MntMeatProducts: int, MntFishProducts: int, MntSweetProducts: int, MntGoldProds: int, NumDealsPurchases: int, NumWebPurchases: int, NumCatalogPurchases: int, NumStorePurchases: int, NumWebVisitsMonth: int, Response: int, Complain: int, Age: int]"
      ]
     },
     "execution_count": 11,
     "metadata": {},
     "output_type": "execute_result"
    }
   ],
   "source": [
    "df"
   ]
  },
  {
   "cell_type": "markdown",
   "id": "a6aa06d4-080b-4710-97a1-bd1bd875a22a",
   "metadata": {},
   "source": [
    "VALIDASI DATA - GREAT EXPECTATIONS"
   ]
  },
  {
   "cell_type": "code",
   "execution_count": 12,
   "id": "04e10148-e717-4b9e-9a14-2af83a3d8495",
   "metadata": {},
   "outputs": [
    {
     "name": "stdout",
     "output_type": "stream",
     "text": [
      "Requirement already satisfied: great-expectations==0.18.19 in /opt/conda/lib/python3.13/site-packages (0.18.19)\n",
      "Requirement already satisfied: altair<5.0.0,>=4.2.1 in /opt/conda/lib/python3.13/site-packages (from great-expectations==0.18.19) (4.2.2)\n",
      "Requirement already satisfied: Click>=7.1.2 in /opt/conda/lib/python3.13/site-packages (from great-expectations==0.18.19) (8.2.1)\n",
      "Requirement already satisfied: colorama>=0.4.3 in /opt/conda/lib/python3.13/site-packages (from great-expectations==0.18.19) (0.4.6)\n",
      "Requirement already satisfied: cryptography>=3.2 in /opt/conda/lib/python3.13/site-packages (from great-expectations==0.18.19) (45.0.6)\n",
      "Requirement already satisfied: Ipython>=7.16.3 in /opt/conda/lib/python3.13/site-packages (from great-expectations==0.18.19) (9.4.0)\n",
      "Requirement already satisfied: ipywidgets>=7.5.1 in /opt/conda/lib/python3.13/site-packages (from great-expectations==0.18.19) (8.1.7)\n",
      "Requirement already satisfied: jinja2>=2.10 in /opt/conda/lib/python3.13/site-packages (from great-expectations==0.18.19) (3.1.6)\n",
      "Requirement already satisfied: jsonpatch>=1.22 in /opt/conda/lib/python3.13/site-packages (from great-expectations==0.18.19) (1.33)\n",
      "Requirement already satisfied: jsonschema>=2.5.1 in /opt/conda/lib/python3.13/site-packages (from great-expectations==0.18.19) (4.25.1)\n",
      "Requirement already satisfied: makefun<2,>=1.7.0 in /opt/conda/lib/python3.13/site-packages (from great-expectations==0.18.19) (1.16.0)\n",
      "Requirement already satisfied: marshmallow<4.0.0,>=3.7.1 in /opt/conda/lib/python3.13/site-packages (from great-expectations==0.18.19) (3.26.1)\n",
      "Requirement already satisfied: mistune>=0.8.4 in /opt/conda/lib/python3.13/site-packages (from great-expectations==0.18.19) (3.1.3)\n",
      "Requirement already satisfied: nbformat>=5.0 in /opt/conda/lib/python3.13/site-packages (from great-expectations==0.18.19) (5.10.4)\n",
      "Requirement already satisfied: notebook>=6.4.10 in /opt/conda/lib/python3.13/site-packages (from great-expectations==0.18.19) (7.4.5)\n",
      "Requirement already satisfied: packaging in /opt/conda/lib/python3.13/site-packages (from great-expectations==0.18.19) (25.0)\n",
      "Requirement already satisfied: pydantic>=1.9.2 in /opt/conda/lib/python3.13/site-packages (from great-expectations==0.18.19) (2.11.7)\n",
      "Requirement already satisfied: pyparsing>=2.4 in /opt/conda/lib/python3.13/site-packages (from great-expectations==0.18.19) (3.2.3)\n",
      "Requirement already satisfied: python-dateutil>=2.8.1 in /opt/conda/lib/python3.13/site-packages (from great-expectations==0.18.19) (2.9.0.post0)\n",
      "Requirement already satisfied: pytz>=2021.3 in /opt/conda/lib/python3.13/site-packages (from great-expectations==0.18.19) (2025.2)\n",
      "Requirement already satisfied: requests>=2.20 in /opt/conda/lib/python3.13/site-packages (from great-expectations==0.18.19) (2.32.5)\n",
      "Requirement already satisfied: ruamel.yaml<0.18,>=0.16 in /opt/conda/lib/python3.13/site-packages (from great-expectations==0.18.19) (0.17.40)\n",
      "Requirement already satisfied: scipy>=1.6.0 in /opt/conda/lib/python3.13/site-packages (from great-expectations==0.18.19) (1.16.1)\n",
      "Requirement already satisfied: tqdm>=4.59.0 in /opt/conda/lib/python3.13/site-packages (from great-expectations==0.18.19) (4.67.1)\n",
      "Requirement already satisfied: typing-extensions>=3.10.0.0 in /opt/conda/lib/python3.13/site-packages (from great-expectations==0.18.19) (4.14.1)\n",
      "Requirement already satisfied: tzlocal>=1.2 in /opt/conda/lib/python3.13/site-packages (from great-expectations==0.18.19) (5.3.1)\n",
      "Requirement already satisfied: urllib3>=1.26 in /opt/conda/lib/python3.13/site-packages (from great-expectations==0.18.19) (2.5.0)\n",
      "Requirement already satisfied: numpy<2.0.0,>=1.22.4 in /opt/conda/lib/python3.13/site-packages (from great-expectations==0.18.19) (1.26.4)\n",
      "Requirement already satisfied: pandas>=1.3.0 in /opt/conda/lib/python3.13/site-packages (from great-expectations==0.18.19) (2.2.3)\n",
      "Requirement already satisfied: entrypoints in /opt/conda/lib/python3.13/site-packages (from altair<5.0.0,>=4.2.1->great-expectations==0.18.19) (0.4)\n",
      "Requirement already satisfied: toolz in /opt/conda/lib/python3.13/site-packages (from altair<5.0.0,>=4.2.1->great-expectations==0.18.19) (1.0.0)\n",
      "Requirement already satisfied: cffi>=1.14 in /opt/conda/lib/python3.13/site-packages (from cryptography>=3.2->great-expectations==0.18.19) (1.17.1)\n",
      "Requirement already satisfied: pycparser in /opt/conda/lib/python3.13/site-packages (from cffi>=1.14->cryptography>=3.2->great-expectations==0.18.19) (2.22)\n",
      "Requirement already satisfied: decorator in /opt/conda/lib/python3.13/site-packages (from Ipython>=7.16.3->great-expectations==0.18.19) (5.2.1)\n",
      "Requirement already satisfied: ipython-pygments-lexers in /opt/conda/lib/python3.13/site-packages (from Ipython>=7.16.3->great-expectations==0.18.19) (1.1.1)\n",
      "Requirement already satisfied: jedi>=0.16 in /opt/conda/lib/python3.13/site-packages (from Ipython>=7.16.3->great-expectations==0.18.19) (0.19.2)\n",
      "Requirement already satisfied: matplotlib-inline in /opt/conda/lib/python3.13/site-packages (from Ipython>=7.16.3->great-expectations==0.18.19) (0.1.7)\n",
      "Requirement already satisfied: pexpect>4.3 in /opt/conda/lib/python3.13/site-packages (from Ipython>=7.16.3->great-expectations==0.18.19) (4.9.0)\n",
      "Requirement already satisfied: prompt_toolkit<3.1.0,>=3.0.41 in /opt/conda/lib/python3.13/site-packages (from Ipython>=7.16.3->great-expectations==0.18.19) (3.0.51)\n",
      "Requirement already satisfied: pygments>=2.4.0 in /opt/conda/lib/python3.13/site-packages (from Ipython>=7.16.3->great-expectations==0.18.19) (2.19.2)\n",
      "Requirement already satisfied: stack_data in /opt/conda/lib/python3.13/site-packages (from Ipython>=7.16.3->great-expectations==0.18.19) (0.6.3)\n",
      "Requirement already satisfied: traitlets>=5.13.0 in /opt/conda/lib/python3.13/site-packages (from Ipython>=7.16.3->great-expectations==0.18.19) (5.14.3)\n",
      "Requirement already satisfied: wcwidth in /opt/conda/lib/python3.13/site-packages (from prompt_toolkit<3.1.0,>=3.0.41->Ipython>=7.16.3->great-expectations==0.18.19) (0.2.13)\n",
      "Requirement already satisfied: comm>=0.1.3 in /opt/conda/lib/python3.13/site-packages (from ipywidgets>=7.5.1->great-expectations==0.18.19) (0.2.3)\n",
      "Requirement already satisfied: widgetsnbextension~=4.0.14 in /opt/conda/lib/python3.13/site-packages (from ipywidgets>=7.5.1->great-expectations==0.18.19) (4.0.14)\n",
      "Requirement already satisfied: jupyterlab_widgets~=3.0.15 in /opt/conda/lib/python3.13/site-packages (from ipywidgets>=7.5.1->great-expectations==0.18.19) (3.0.15)\n",
      "Requirement already satisfied: parso<0.9.0,>=0.8.4 in /opt/conda/lib/python3.13/site-packages (from jedi>=0.16->Ipython>=7.16.3->great-expectations==0.18.19) (0.8.5)\n",
      "Requirement already satisfied: MarkupSafe>=2.0 in /opt/conda/lib/python3.13/site-packages (from jinja2>=2.10->great-expectations==0.18.19) (3.0.2)\n",
      "Requirement already satisfied: jsonpointer>=1.9 in /opt/conda/lib/python3.13/site-packages (from jsonpatch>=1.22->great-expectations==0.18.19) (3.0.0)\n",
      "Requirement already satisfied: attrs>=22.2.0 in /opt/conda/lib/python3.13/site-packages (from jsonschema>=2.5.1->great-expectations==0.18.19) (25.3.0)\n",
      "Requirement already satisfied: jsonschema-specifications>=2023.03.6 in /opt/conda/lib/python3.13/site-packages (from jsonschema>=2.5.1->great-expectations==0.18.19) (2025.4.1)\n",
      "Requirement already satisfied: referencing>=0.28.4 in /opt/conda/lib/python3.13/site-packages (from jsonschema>=2.5.1->great-expectations==0.18.19) (0.36.2)\n",
      "Requirement already satisfied: rpds-py>=0.7.1 in /opt/conda/lib/python3.13/site-packages (from jsonschema>=2.5.1->great-expectations==0.18.19) (0.27.0)\n",
      "Requirement already satisfied: fastjsonschema>=2.15 in /opt/conda/lib/python3.13/site-packages (from nbformat>=5.0->great-expectations==0.18.19) (2.21.2)\n",
      "Requirement already satisfied: jupyter-core!=5.0.*,>=4.12 in /opt/conda/lib/python3.13/site-packages (from nbformat>=5.0->great-expectations==0.18.19) (5.8.1)\n",
      "Requirement already satisfied: platformdirs>=2.5 in /opt/conda/lib/python3.13/site-packages (from jupyter-core!=5.0.*,>=4.12->nbformat>=5.0->great-expectations==0.18.19) (4.3.8)\n",
      "Requirement already satisfied: jupyter-server<3,>=2.4.0 in /opt/conda/lib/python3.13/site-packages (from notebook>=6.4.10->great-expectations==0.18.19) (2.17.0)\n",
      "Requirement already satisfied: jupyterlab-server<3,>=2.27.1 in /opt/conda/lib/python3.13/site-packages (from notebook>=6.4.10->great-expectations==0.18.19) (2.27.3)\n",
      "Requirement already satisfied: jupyterlab<4.5,>=4.4.5 in /opt/conda/lib/python3.13/site-packages (from notebook>=6.4.10->great-expectations==0.18.19) (4.4.6)\n",
      "Requirement already satisfied: notebook-shim<0.3,>=0.2 in /opt/conda/lib/python3.13/site-packages (from notebook>=6.4.10->great-expectations==0.18.19) (0.2.4)\n",
      "Requirement already satisfied: tornado>=6.2.0 in /opt/conda/lib/python3.13/site-packages (from notebook>=6.4.10->great-expectations==0.18.19) (6.5.2)\n",
      "Requirement already satisfied: anyio>=3.1.0 in /opt/conda/lib/python3.13/site-packages (from jupyter-server<3,>=2.4.0->notebook>=6.4.10->great-expectations==0.18.19) (4.10.0)\n",
      "Requirement already satisfied: argon2-cffi>=21.1 in /opt/conda/lib/python3.13/site-packages (from jupyter-server<3,>=2.4.0->notebook>=6.4.10->great-expectations==0.18.19) (25.1.0)\n",
      "Requirement already satisfied: jupyter-client>=7.4.4 in /opt/conda/lib/python3.13/site-packages (from jupyter-server<3,>=2.4.0->notebook>=6.4.10->great-expectations==0.18.19) (8.6.3)\n",
      "Requirement already satisfied: jupyter-events>=0.11.0 in /opt/conda/lib/python3.13/site-packages (from jupyter-server<3,>=2.4.0->notebook>=6.4.10->great-expectations==0.18.19) (0.12.0)\n",
      "Requirement already satisfied: jupyter-server-terminals>=0.4.4 in /opt/conda/lib/python3.13/site-packages (from jupyter-server<3,>=2.4.0->notebook>=6.4.10->great-expectations==0.18.19) (0.5.3)\n",
      "Requirement already satisfied: nbconvert>=6.4.4 in /opt/conda/lib/python3.13/site-packages (from jupyter-server<3,>=2.4.0->notebook>=6.4.10->great-expectations==0.18.19) (7.16.6)\n",
      "Requirement already satisfied: prometheus-client>=0.9 in /opt/conda/lib/python3.13/site-packages (from jupyter-server<3,>=2.4.0->notebook>=6.4.10->great-expectations==0.18.19) (0.22.1)\n",
      "Requirement already satisfied: pyzmq>=24 in /opt/conda/lib/python3.13/site-packages (from jupyter-server<3,>=2.4.0->notebook>=6.4.10->great-expectations==0.18.19) (27.0.2)\n",
      "Requirement already satisfied: send2trash>=1.8.2 in /opt/conda/lib/python3.13/site-packages (from jupyter-server<3,>=2.4.0->notebook>=6.4.10->great-expectations==0.18.19) (1.8.3)\n",
      "Requirement already satisfied: terminado>=0.8.3 in /opt/conda/lib/python3.13/site-packages (from jupyter-server<3,>=2.4.0->notebook>=6.4.10->great-expectations==0.18.19) (0.18.1)\n",
      "Requirement already satisfied: websocket-client>=1.7 in /opt/conda/lib/python3.13/site-packages (from jupyter-server<3,>=2.4.0->notebook>=6.4.10->great-expectations==0.18.19) (1.8.0)\n",
      "Requirement already satisfied: async-lru>=1.0.0 in /opt/conda/lib/python3.13/site-packages (from jupyterlab<4.5,>=4.4.5->notebook>=6.4.10->great-expectations==0.18.19) (2.0.5)\n",
      "Requirement already satisfied: httpx<1,>=0.25.0 in /opt/conda/lib/python3.13/site-packages (from jupyterlab<4.5,>=4.4.5->notebook>=6.4.10->great-expectations==0.18.19) (0.28.1)\n",
      "Requirement already satisfied: ipykernel!=6.30.0,>=6.5.0 in /opt/conda/lib/python3.13/site-packages (from jupyterlab<4.5,>=4.4.5->notebook>=6.4.10->great-expectations==0.18.19) (6.30.1)\n",
      "Requirement already satisfied: jupyter-lsp>=2.0.0 in /opt/conda/lib/python3.13/site-packages (from jupyterlab<4.5,>=4.4.5->notebook>=6.4.10->great-expectations==0.18.19) (2.2.6)\n",
      "Requirement already satisfied: setuptools>=41.1.0 in /opt/conda/lib/python3.13/site-packages (from jupyterlab<4.5,>=4.4.5->notebook>=6.4.10->great-expectations==0.18.19) (80.9.0)\n",
      "Requirement already satisfied: certifi in /opt/conda/lib/python3.13/site-packages (from httpx<1,>=0.25.0->jupyterlab<4.5,>=4.4.5->notebook>=6.4.10->great-expectations==0.18.19) (2025.8.3)\n",
      "Requirement already satisfied: httpcore==1.* in /opt/conda/lib/python3.13/site-packages (from httpx<1,>=0.25.0->jupyterlab<4.5,>=4.4.5->notebook>=6.4.10->great-expectations==0.18.19) (1.0.9)\n",
      "Requirement already satisfied: idna in /opt/conda/lib/python3.13/site-packages (from httpx<1,>=0.25.0->jupyterlab<4.5,>=4.4.5->notebook>=6.4.10->great-expectations==0.18.19) (3.10)\n",
      "Requirement already satisfied: h11>=0.16 in /opt/conda/lib/python3.13/site-packages (from httpcore==1.*->httpx<1,>=0.25.0->jupyterlab<4.5,>=4.4.5->notebook>=6.4.10->great-expectations==0.18.19) (0.16.0)\n",
      "Requirement already satisfied: babel>=2.10 in /opt/conda/lib/python3.13/site-packages (from jupyterlab-server<3,>=2.27.1->notebook>=6.4.10->great-expectations==0.18.19) (2.17.0)\n",
      "Requirement already satisfied: json5>=0.9.0 in /opt/conda/lib/python3.13/site-packages (from jupyterlab-server<3,>=2.27.1->notebook>=6.4.10->great-expectations==0.18.19) (0.12.1)\n",
      "Requirement already satisfied: sniffio>=1.1 in /opt/conda/lib/python3.13/site-packages (from anyio>=3.1.0->jupyter-server<3,>=2.4.0->notebook>=6.4.10->great-expectations==0.18.19) (1.3.1)\n",
      "Requirement already satisfied: argon2-cffi-bindings in /opt/conda/lib/python3.13/site-packages (from argon2-cffi>=21.1->jupyter-server<3,>=2.4.0->notebook>=6.4.10->great-expectations==0.18.19) (25.1.0)\n",
      "Requirement already satisfied: debugpy>=1.6.5 in /opt/conda/lib/python3.13/site-packages (from ipykernel!=6.30.0,>=6.5.0->jupyterlab<4.5,>=4.4.5->notebook>=6.4.10->great-expectations==0.18.19) (1.8.16)\n",
      "Requirement already satisfied: nest-asyncio>=1.4 in /opt/conda/lib/python3.13/site-packages (from ipykernel!=6.30.0,>=6.5.0->jupyterlab<4.5,>=4.4.5->notebook>=6.4.10->great-expectations==0.18.19) (1.6.0)\n",
      "Requirement already satisfied: psutil>=5.7 in /opt/conda/lib/python3.13/site-packages (from ipykernel!=6.30.0,>=6.5.0->jupyterlab<4.5,>=4.4.5->notebook>=6.4.10->great-expectations==0.18.19) (7.0.0)\n",
      "Requirement already satisfied: python-json-logger>=2.0.4 in /opt/conda/lib/python3.13/site-packages (from jupyter-events>=0.11.0->jupyter-server<3,>=2.4.0->notebook>=6.4.10->great-expectations==0.18.19) (2.0.7)\n",
      "Requirement already satisfied: pyyaml>=5.3 in /opt/conda/lib/python3.13/site-packages (from jupyter-events>=0.11.0->jupyter-server<3,>=2.4.0->notebook>=6.4.10->great-expectations==0.18.19) (6.0.2)\n",
      "Requirement already satisfied: rfc3339-validator in /opt/conda/lib/python3.13/site-packages (from jupyter-events>=0.11.0->jupyter-server<3,>=2.4.0->notebook>=6.4.10->great-expectations==0.18.19) (0.1.4)\n",
      "Requirement already satisfied: rfc3986-validator>=0.1.1 in /opt/conda/lib/python3.13/site-packages (from jupyter-events>=0.11.0->jupyter-server<3,>=2.4.0->notebook>=6.4.10->great-expectations==0.18.19) (0.1.1)\n",
      "Requirement already satisfied: fqdn in /opt/conda/lib/python3.13/site-packages (from jsonschema[format-nongpl]>=4.18.0->jupyter-events>=0.11.0->jupyter-server<3,>=2.4.0->notebook>=6.4.10->great-expectations==0.18.19) (1.5.1)\n",
      "Requirement already satisfied: isoduration in /opt/conda/lib/python3.13/site-packages (from jsonschema[format-nongpl]>=4.18.0->jupyter-events>=0.11.0->jupyter-server<3,>=2.4.0->notebook>=6.4.10->great-expectations==0.18.19) (20.11.0)\n",
      "Requirement already satisfied: rfc3987-syntax>=1.1.0 in /opt/conda/lib/python3.13/site-packages (from jsonschema[format-nongpl]>=4.18.0->jupyter-events>=0.11.0->jupyter-server<3,>=2.4.0->notebook>=6.4.10->great-expectations==0.18.19) (1.1.0)\n",
      "Requirement already satisfied: uri-template in /opt/conda/lib/python3.13/site-packages (from jsonschema[format-nongpl]>=4.18.0->jupyter-events>=0.11.0->jupyter-server<3,>=2.4.0->notebook>=6.4.10->great-expectations==0.18.19) (1.3.0)\n",
      "Requirement already satisfied: webcolors>=24.6.0 in /opt/conda/lib/python3.13/site-packages (from jsonschema[format-nongpl]>=4.18.0->jupyter-events>=0.11.0->jupyter-server<3,>=2.4.0->notebook>=6.4.10->great-expectations==0.18.19) (24.11.1)\n",
      "Requirement already satisfied: beautifulsoup4 in /opt/conda/lib/python3.13/site-packages (from nbconvert>=6.4.4->jupyter-server<3,>=2.4.0->notebook>=6.4.10->great-expectations==0.18.19) (4.13.4)\n",
      "Requirement already satisfied: bleach!=5.0.0 in /opt/conda/lib/python3.13/site-packages (from bleach[css]!=5.0.0->nbconvert>=6.4.4->jupyter-server<3,>=2.4.0->notebook>=6.4.10->great-expectations==0.18.19) (6.2.0)\n",
      "Requirement already satisfied: defusedxml in /opt/conda/lib/python3.13/site-packages (from nbconvert>=6.4.4->jupyter-server<3,>=2.4.0->notebook>=6.4.10->great-expectations==0.18.19) (0.7.1)\n",
      "Requirement already satisfied: jupyterlab-pygments in /opt/conda/lib/python3.13/site-packages (from nbconvert>=6.4.4->jupyter-server<3,>=2.4.0->notebook>=6.4.10->great-expectations==0.18.19) (0.3.0)\n",
      "Requirement already satisfied: nbclient>=0.5.0 in /opt/conda/lib/python3.13/site-packages (from nbconvert>=6.4.4->jupyter-server<3,>=2.4.0->notebook>=6.4.10->great-expectations==0.18.19) (0.10.2)\n",
      "Requirement already satisfied: pandocfilters>=1.4.1 in /opt/conda/lib/python3.13/site-packages (from nbconvert>=6.4.4->jupyter-server<3,>=2.4.0->notebook>=6.4.10->great-expectations==0.18.19) (1.5.0)\n",
      "Requirement already satisfied: webencodings in /opt/conda/lib/python3.13/site-packages (from bleach!=5.0.0->bleach[css]!=5.0.0->nbconvert>=6.4.4->jupyter-server<3,>=2.4.0->notebook>=6.4.10->great-expectations==0.18.19) (0.5.1)\n",
      "Requirement already satisfied: tinycss2<1.5,>=1.1.0 in /opt/conda/lib/python3.13/site-packages (from bleach[css]!=5.0.0->nbconvert>=6.4.4->jupyter-server<3,>=2.4.0->notebook>=6.4.10->great-expectations==0.18.19) (1.4.0)\n",
      "Requirement already satisfied: tzdata>=2022.7 in /opt/conda/lib/python3.13/site-packages (from pandas>=1.3.0->great-expectations==0.18.19) (2025.2)\n",
      "Requirement already satisfied: ptyprocess>=0.5 in /opt/conda/lib/python3.13/site-packages (from pexpect>4.3->Ipython>=7.16.3->great-expectations==0.18.19) (0.7.0)\n",
      "Requirement already satisfied: annotated-types>=0.6.0 in /opt/conda/lib/python3.13/site-packages (from pydantic>=1.9.2->great-expectations==0.18.19) (0.7.0)\n",
      "Requirement already satisfied: pydantic-core==2.33.2 in /opt/conda/lib/python3.13/site-packages (from pydantic>=1.9.2->great-expectations==0.18.19) (2.33.2)\n",
      "Requirement already satisfied: typing-inspection>=0.4.0 in /opt/conda/lib/python3.13/site-packages (from pydantic>=1.9.2->great-expectations==0.18.19) (0.4.1)\n",
      "Requirement already satisfied: six>=1.5 in /opt/conda/lib/python3.13/site-packages (from python-dateutil>=2.8.1->great-expectations==0.18.19) (1.17.0)\n",
      "Requirement already satisfied: charset_normalizer<4,>=2 in /opt/conda/lib/python3.13/site-packages (from requests>=2.20->great-expectations==0.18.19) (3.4.3)\n",
      "Requirement already satisfied: lark>=1.2.2 in /opt/conda/lib/python3.13/site-packages (from rfc3987-syntax>=1.1.0->jsonschema[format-nongpl]>=4.18.0->jupyter-events>=0.11.0->jupyter-server<3,>=2.4.0->notebook>=6.4.10->great-expectations==0.18.19) (1.2.2)\n",
      "Requirement already satisfied: soupsieve>1.2 in /opt/conda/lib/python3.13/site-packages (from beautifulsoup4->nbconvert>=6.4.4->jupyter-server<3,>=2.4.0->notebook>=6.4.10->great-expectations==0.18.19) (2.7)\n",
      "Requirement already satisfied: arrow>=0.15.0 in /opt/conda/lib/python3.13/site-packages (from isoduration->jsonschema[format-nongpl]>=4.18.0->jupyter-events>=0.11.0->jupyter-server<3,>=2.4.0->notebook>=6.4.10->great-expectations==0.18.19) (1.3.0)\n",
      "Requirement already satisfied: types-python-dateutil>=2.8.10 in /opt/conda/lib/python3.13/site-packages (from arrow>=0.15.0->isoduration->jsonschema[format-nongpl]>=4.18.0->jupyter-events>=0.11.0->jupyter-server<3,>=2.4.0->notebook>=6.4.10->great-expectations==0.18.19) (2.9.0.20250822)\n",
      "Requirement already satisfied: executing>=1.2.0 in /opt/conda/lib/python3.13/site-packages (from stack_data->Ipython>=7.16.3->great-expectations==0.18.19) (2.2.0)\n",
      "Requirement already satisfied: asttokens>=2.1.0 in /opt/conda/lib/python3.13/site-packages (from stack_data->Ipython>=7.16.3->great-expectations==0.18.19) (3.0.0)\n",
      "Requirement already satisfied: pure_eval in /opt/conda/lib/python3.13/site-packages (from stack_data->Ipython>=7.16.3->great-expectations==0.18.19) (0.2.3)\n"
     ]
    }
   ],
   "source": [
    "!pip install \"great-expectations==0.18.19\""
   ]
  },
  {
   "cell_type": "code",
   "execution_count": 13,
   "id": "386c609b-4935-4bf5-abbe-72216d999097",
   "metadata": {},
   "outputs": [
    {
     "name": "stdout",
     "output_type": "stream",
     "text": [
      "Requirement already satisfied: numpy==1.26.4 in /opt/conda/lib/python3.13/site-packages (1.26.4)\n"
     ]
    }
   ],
   "source": [
    "!pip install numpy==1.26.4"
   ]
  },
  {
   "cell_type": "code",
   "execution_count": 16,
   "id": "86cfa211-785d-4d16-9dcf-fd963a471071",
   "metadata": {
    "scrolled": true
   },
   "outputs": [
    {
     "data": {
      "application/vnd.jupyter.widget-view+json": {
       "model_id": "facff99f8b314d2393ed340784b09f1e",
       "version_major": 2,
       "version_minor": 0
      },
      "text/plain": [
       "Calculating Metrics:   0%|          | 0/1 [00:00<?, ?it/s]"
      ]
     },
     "metadata": {},
     "output_type": "display_data"
    },
    {
     "data": {
      "text/html": [
       "<div>\n",
       "<style scoped>\n",
       "    .dataframe tbody tr th:only-of-type {\n",
       "        vertical-align: middle;\n",
       "    }\n",
       "\n",
       "    .dataframe tbody tr th {\n",
       "        vertical-align: top;\n",
       "    }\n",
       "\n",
       "    .dataframe thead th {\n",
       "        text-align: right;\n",
       "    }\n",
       "</style>\n",
       "<table border=\"1\" class=\"dataframe\">\n",
       "  <thead>\n",
       "    <tr style=\"text-align: right;\">\n",
       "      <th></th>\n",
       "      <th>Id</th>\n",
       "      <th>Year_Birth</th>\n",
       "      <th>Education</th>\n",
       "      <th>Marital_Status</th>\n",
       "      <th>Income</th>\n",
       "      <th>Kidhome</th>\n",
       "      <th>Teenhome</th>\n",
       "      <th>Dt_Customer</th>\n",
       "      <th>Recency</th>\n",
       "      <th>MntWines</th>\n",
       "      <th>...</th>\n",
       "      <th>MntFishProducts</th>\n",
       "      <th>MntSweetProducts</th>\n",
       "      <th>MntGoldProds</th>\n",
       "      <th>NumDealsPurchases</th>\n",
       "      <th>NumWebPurchases</th>\n",
       "      <th>NumCatalogPurchases</th>\n",
       "      <th>NumStorePurchases</th>\n",
       "      <th>NumWebVisitsMonth</th>\n",
       "      <th>Response</th>\n",
       "      <th>Complain</th>\n",
       "    </tr>\n",
       "  </thead>\n",
       "  <tbody>\n",
       "    <tr>\n",
       "      <th>0</th>\n",
       "      <td>1826</td>\n",
       "      <td>1970</td>\n",
       "      <td>Graduation</td>\n",
       "      <td>Divorced</td>\n",
       "      <td>84835.0</td>\n",
       "      <td>0</td>\n",
       "      <td>0</td>\n",
       "      <td>6/16/2014</td>\n",
       "      <td>0</td>\n",
       "      <td>189</td>\n",
       "      <td>...</td>\n",
       "      <td>111</td>\n",
       "      <td>189</td>\n",
       "      <td>218</td>\n",
       "      <td>1</td>\n",
       "      <td>4</td>\n",
       "      <td>4</td>\n",
       "      <td>6</td>\n",
       "      <td>1</td>\n",
       "      <td>1</td>\n",
       "      <td>0</td>\n",
       "    </tr>\n",
       "    <tr>\n",
       "      <th>1</th>\n",
       "      <td>1</td>\n",
       "      <td>1961</td>\n",
       "      <td>Graduation</td>\n",
       "      <td>Single</td>\n",
       "      <td>57091.0</td>\n",
       "      <td>0</td>\n",
       "      <td>0</td>\n",
       "      <td>6/15/2014</td>\n",
       "      <td>0</td>\n",
       "      <td>464</td>\n",
       "      <td>...</td>\n",
       "      <td>7</td>\n",
       "      <td>0</td>\n",
       "      <td>37</td>\n",
       "      <td>1</td>\n",
       "      <td>7</td>\n",
       "      <td>3</td>\n",
       "      <td>7</td>\n",
       "      <td>5</td>\n",
       "      <td>1</td>\n",
       "      <td>0</td>\n",
       "    </tr>\n",
       "    <tr>\n",
       "      <th>2</th>\n",
       "      <td>10476</td>\n",
       "      <td>1958</td>\n",
       "      <td>Graduation</td>\n",
       "      <td>Married</td>\n",
       "      <td>67267.0</td>\n",
       "      <td>0</td>\n",
       "      <td>1</td>\n",
       "      <td>5/13/2014</td>\n",
       "      <td>0</td>\n",
       "      <td>134</td>\n",
       "      <td>...</td>\n",
       "      <td>15</td>\n",
       "      <td>2</td>\n",
       "      <td>30</td>\n",
       "      <td>1</td>\n",
       "      <td>3</td>\n",
       "      <td>2</td>\n",
       "      <td>5</td>\n",
       "      <td>2</td>\n",
       "      <td>0</td>\n",
       "      <td>0</td>\n",
       "    </tr>\n",
       "    <tr>\n",
       "      <th>3</th>\n",
       "      <td>1386</td>\n",
       "      <td>1967</td>\n",
       "      <td>Graduation</td>\n",
       "      <td>Together</td>\n",
       "      <td>32474.0</td>\n",
       "      <td>1</td>\n",
       "      <td>1</td>\n",
       "      <td>11/5/2014</td>\n",
       "      <td>0</td>\n",
       "      <td>10</td>\n",
       "      <td>...</td>\n",
       "      <td>0</td>\n",
       "      <td>0</td>\n",
       "      <td>0</td>\n",
       "      <td>1</td>\n",
       "      <td>1</td>\n",
       "      <td>0</td>\n",
       "      <td>2</td>\n",
       "      <td>7</td>\n",
       "      <td>0</td>\n",
       "      <td>0</td>\n",
       "    </tr>\n",
       "    <tr>\n",
       "      <th>4</th>\n",
       "      <td>5371</td>\n",
       "      <td>1989</td>\n",
       "      <td>Graduation</td>\n",
       "      <td>Single</td>\n",
       "      <td>21474.0</td>\n",
       "      <td>1</td>\n",
       "      <td>0</td>\n",
       "      <td>8/4/2014</td>\n",
       "      <td>0</td>\n",
       "      <td>6</td>\n",
       "      <td>...</td>\n",
       "      <td>11</td>\n",
       "      <td>0</td>\n",
       "      <td>34</td>\n",
       "      <td>2</td>\n",
       "      <td>3</td>\n",
       "      <td>1</td>\n",
       "      <td>2</td>\n",
       "      <td>7</td>\n",
       "      <td>1</td>\n",
       "      <td>0</td>\n",
       "    </tr>\n",
       "  </tbody>\n",
       "</table>\n",
       "<p>5 rows × 22 columns</p>\n",
       "</div>"
      ],
      "text/plain": [
       "      Id  Year_Birth   Education Marital_Status   Income  Kidhome  Teenhome  \\\n",
       "0   1826        1970  Graduation       Divorced  84835.0        0         0   \n",
       "1      1        1961  Graduation         Single  57091.0        0         0   \n",
       "2  10476        1958  Graduation        Married  67267.0        0         1   \n",
       "3   1386        1967  Graduation       Together  32474.0        1         1   \n",
       "4   5371        1989  Graduation         Single  21474.0        1         0   \n",
       "\n",
       "  Dt_Customer  Recency  MntWines  ...  MntFishProducts  MntSweetProducts  \\\n",
       "0   6/16/2014        0       189  ...              111               189   \n",
       "1   6/15/2014        0       464  ...                7                 0   \n",
       "2   5/13/2014        0       134  ...               15                 2   \n",
       "3   11/5/2014        0        10  ...                0                 0   \n",
       "4    8/4/2014        0         6  ...               11                 0   \n",
       "\n",
       "   MntGoldProds  NumDealsPurchases  NumWebPurchases  NumCatalogPurchases  \\\n",
       "0           218                  1                4                    4   \n",
       "1            37                  1                7                    3   \n",
       "2            30                  1                3                    2   \n",
       "3             0                  1                1                    0   \n",
       "4            34                  2                3                    1   \n",
       "\n",
       "   NumStorePurchases  NumWebVisitsMonth  Response  Complain  \n",
       "0                  6                  1         1         0  \n",
       "1                  7                  5         1         0  \n",
       "2                  5                  2         0         0  \n",
       "3                  2                  7         0         0  \n",
       "4                  2                  7         1         0  \n",
       "\n",
       "[5 rows x 22 columns]"
      ]
     },
     "execution_count": 16,
     "metadata": {},
     "output_type": "execute_result"
    }
   ],
   "source": [
    "# 1. Import & buat Data Context\n",
    "from great_expectations.data_context import FileDataContext\n",
    "\n",
    "context = FileDataContext.create(project_root_dir='./')\n",
    "\n",
    "\n",
    "# 2. Buat atau update Expectation Suite\n",
    "\n",
    "expectation_suite_name = 'expectation-superstore'\n",
    "context.add_or_update_expectation_suite(expectation_suite_name)\n",
    "\n",
    "\n",
    "# 3. Daftarkan datasource & asset\n",
    "datasource_name = 'superstore-csv-v5'  \n",
    "asset_name = 'superstore-data'\n",
    "path_to_data = './superstore_data.csv'\n",
    "\n",
    "# Hapus datasource lama kalau ada, agar tidak error\n",
    "if datasource_name in context.list_datasources():\n",
    "    context.sources.delete(datasource_name)\n",
    "\n",
    "# Tambahkan datasource baru\n",
    "datasource = context.sources.add_pandas(datasource_name)\n",
    "\n",
    "# Tambahkan CSV asset\n",
    "asset = datasource.add_csv_asset(asset_name, filepath_or_buffer=path_to_data)\n",
    "\n",
    "# Build batch request\n",
    "batch_request = asset.build_batch_request()\n",
    "\n",
    "# 4. Buat validator pakai batch_request & expectation suite\n",
    "validator = context.get_validator(\n",
    "    batch_request=batch_request,\n",
    "    expectation_suite_name=expectation_suite_name\n",
    ")\n",
    "\n",
    "# 5. Cek 5 baris pertama dataset\n",
    "validator.head()\n"
   ]
  },
  {
   "cell_type": "markdown",
   "id": "6d15dbb5-7101-40ed-bb99-da1958d8c449",
   "metadata": {},
   "source": [
    "1. Expectation 1:  kolom respon (thdp campaign) tidak boleh kosong"
   ]
  },
  {
   "cell_type": "code",
   "execution_count": 53,
   "id": "db69e81c-4f99-4e26-b7ae-080b79e48d64",
   "metadata": {},
   "outputs": [
    {
     "name": "stderr",
     "output_type": "stream",
     "text": [
      "WARNING:py.warnings:/opt/conda/lib/python3.13/site-packages/great_expectations/expectations/expectation.py:1518: UserWarning: `result_format` configured at the Validator-level will not be persisted. Please add the configuration to your Checkpoint config or checkpoint_run() method instead.\n",
      "  warnings.warn(\n",
      "\n"
     ]
    },
    {
     "data": {
      "application/vnd.jupyter.widget-view+json": {
       "model_id": "f44f3110c66348bdb8eaa326445bd138",
       "version_major": 2,
       "version_minor": 0
      },
      "text/plain": [
       "Calculating Metrics:   0%|          | 0/6 [00:00<?, ?it/s]"
      ]
     },
     "metadata": {},
     "output_type": "display_data"
    },
    {
     "data": {
      "text/plain": [
       "{\n",
       "  \"success\": true,\n",
       "  \"result\": {\n",
       "    \"element_count\": 2240,\n",
       "    \"unexpected_count\": 0,\n",
       "    \"unexpected_percent\": 0.0,\n",
       "    \"partial_unexpected_list\": []\n",
       "  },\n",
       "  \"meta\": {},\n",
       "  \"exception_info\": {\n",
       "    \"raised_exception\": false,\n",
       "    \"exception_traceback\": null,\n",
       "    \"exception_message\": null\n",
       "  }\n",
       "}"
      ]
     },
     "execution_count": 53,
     "metadata": {},
     "output_type": "execute_result"
    }
   ],
   "source": [
    "# Expectation: Column 'Response' tidak boleh kosong\n",
    "validator.expect_column_values_to_not_be_null('Response')\n"
   ]
  },
  {
   "cell_type": "markdown",
   "id": "7d04cd7f-8c58-47fe-8a98-86a175d7ef6a",
   "metadata": {},
   "source": [
    "2. Expectation 2: Kolom 'Id' harus unik"
   ]
  },
  {
   "cell_type": "code",
   "execution_count": 54,
   "id": "a30fe9f6-644c-44a7-89db-9c0f84aa7983",
   "metadata": {
    "scrolled": true
   },
   "outputs": [
    {
     "name": "stderr",
     "output_type": "stream",
     "text": [
      "WARNING:py.warnings:/opt/conda/lib/python3.13/site-packages/great_expectations/expectations/expectation.py:1518: UserWarning: `result_format` configured at the Validator-level will not be persisted. Please add the configuration to your Checkpoint config or checkpoint_run() method instead.\n",
      "  warnings.warn(\n",
      "\n"
     ]
    },
    {
     "data": {
      "application/vnd.jupyter.widget-view+json": {
       "model_id": "fba713a9c96349858d00f26f3255ec2f",
       "version_major": 2,
       "version_minor": 0
      },
      "text/plain": [
       "Calculating Metrics:   0%|          | 0/8 [00:00<?, ?it/s]"
      ]
     },
     "metadata": {},
     "output_type": "display_data"
    },
    {
     "data": {
      "text/plain": [
       "{\n",
       "  \"success\": true,\n",
       "  \"result\": {\n",
       "    \"element_count\": 2240,\n",
       "    \"unexpected_count\": 0,\n",
       "    \"unexpected_percent\": 0.0,\n",
       "    \"partial_unexpected_list\": [],\n",
       "    \"missing_count\": 0,\n",
       "    \"missing_percent\": 0.0,\n",
       "    \"unexpected_percent_total\": 0.0,\n",
       "    \"unexpected_percent_nonmissing\": 0.0\n",
       "  },\n",
       "  \"meta\": {},\n",
       "  \"exception_info\": {\n",
       "    \"raised_exception\": false,\n",
       "    \"exception_traceback\": null,\n",
       "    \"exception_message\": null\n",
       "  }\n",
       "}"
      ]
     },
     "execution_count": 54,
     "metadata": {},
     "output_type": "execute_result"
    }
   ],
   "source": [
    "validator.expect_column_values_to_be_unique('Id')"
   ]
  },
  {
   "cell_type": "markdown",
   "id": "33547d7b-2c1e-4c7e-ae89-4113649724a2",
   "metadata": {},
   "source": [
    "3. Expectation 3: Dt_Customer harus berformat date"
   ]
  },
  {
   "cell_type": "code",
   "execution_count": 20,
   "id": "8d4ce90e-a251-4935-bab9-647c9bc5c6ab",
   "metadata": {},
   "outputs": [
    {
     "data": {
      "text/plain": [
       "{\n",
       "  \"success\": true,\n",
       "  \"result\": {\n",
       "    \"observed_value\": \"DateType\"\n",
       "  },\n",
       "  \"meta\": {},\n",
       "  \"exception_info\": {\n",
       "    \"raised_exception\": false,\n",
       "    \"exception_traceback\": null,\n",
       "    \"exception_message\": null\n",
       "  }\n",
       "}"
      ]
     },
     "execution_count": 20,
     "metadata": {},
     "output_type": "execute_result"
    }
   ],
   "source": [
    "import datetime\n",
    "# Expectation: kolom harus DateType\n",
    "validator.expect_column_values_to_be_of_type(\n",
    "    'Dt_Customer',\n",
    "    'DateType'\n",
    ")"
   ]
  },
  {
   "cell_type": "code",
   "execution_count": null,
   "id": "0cc25bb4-cd09-47e5-8dd6-09e3edfc8dd1",
   "metadata": {},
   "outputs": [],
   "source": []
  },
  {
   "cell_type": "markdown",
   "id": "427d351f-f78b-4e74-a720-7ac86b048205",
   "metadata": {},
   "source": [
    "4. Expectation: Maksimum nilai kolom 'Complain' harus 1"
   ]
  },
  {
   "cell_type": "code",
   "execution_count": 56,
   "id": "ba942e06-96aa-4d16-90ec-7a718bec3946",
   "metadata": {},
   "outputs": [
    {
     "name": "stderr",
     "output_type": "stream",
     "text": [
      "WARNING:py.warnings:/opt/conda/lib/python3.13/site-packages/great_expectations/expectations/expectation.py:1518: UserWarning: `result_format` configured at the Validator-level will not be persisted. Please add the configuration to your Checkpoint config or checkpoint_run() method instead.\n",
      "  warnings.warn(\n",
      "\n"
     ]
    },
    {
     "data": {
      "application/vnd.jupyter.widget-view+json": {
       "model_id": "5c39aad676414dcd8e96d50795e28f1c",
       "version_major": 2,
       "version_minor": 0
      },
      "text/plain": [
       "Calculating Metrics:   0%|          | 0/4 [00:00<?, ?it/s]"
      ]
     },
     "metadata": {},
     "output_type": "display_data"
    },
    {
     "data": {
      "text/plain": [
       "{\n",
       "  \"success\": true,\n",
       "  \"result\": {\n",
       "    \"observed_value\": 1\n",
       "  },\n",
       "  \"meta\": {},\n",
       "  \"exception_info\": {\n",
       "    \"raised_exception\": false,\n",
       "    \"exception_traceback\": null,\n",
       "    \"exception_message\": null\n",
       "  }\n",
       "}"
      ]
     },
     "execution_count": 56,
     "metadata": {},
     "output_type": "execute_result"
    }
   ],
   "source": [
    "# Expectation: Maksimum nilai kolom 'Complain' harus 1\n",
    "# Artinya, tidak ada nilai > 1\n",
    "\n",
    "validator.expect_column_max_to_be_between(\n",
    "    column='Complain',   # kolom yang dicek\n",
    "    min_value=0,         # minimum boleh 0 (tdk komplain)\n",
    "    max_value=1          # maksimum harus 1\n",
    ")\n"
   ]
  },
  {
   "cell_type": "markdown",
   "id": "0914a9a3-3177-4c40-bdd5-8d2772935bb8",
   "metadata": {},
   "source": [
    "5. Expectation : Education harus termasuk dalam set kategori"
   ]
  },
  {
   "cell_type": "code",
   "execution_count": 62,
   "id": "a3eba2e3-0e37-4468-9c06-8312865b24ae",
   "metadata": {},
   "outputs": [
    {
     "name": "stderr",
     "output_type": "stream",
     "text": [
      "WARNING:py.warnings:/opt/conda/lib/python3.13/site-packages/great_expectations/expectations/expectation.py:1518: UserWarning: `result_format` configured at the Validator-level will not be persisted. Please add the configuration to your Checkpoint config or checkpoint_run() method instead.\n",
      "  warnings.warn(\n",
      "\n"
     ]
    },
    {
     "data": {
      "application/vnd.jupyter.widget-view+json": {
       "model_id": "d695aa9696f442fabae9f9b5848181a9",
       "version_major": 2,
       "version_minor": 0
      },
      "text/plain": [
       "Calculating Metrics:   0%|          | 0/8 [00:00<?, ?it/s]"
      ]
     },
     "metadata": {},
     "output_type": "display_data"
    },
    {
     "data": {
      "text/plain": [
       "{\n",
       "  \"success\": true,\n",
       "  \"result\": {\n",
       "    \"element_count\": 2240,\n",
       "    \"unexpected_count\": 0,\n",
       "    \"unexpected_percent\": 0.0,\n",
       "    \"partial_unexpected_list\": [],\n",
       "    \"missing_count\": 0,\n",
       "    \"missing_percent\": 0.0,\n",
       "    \"unexpected_percent_total\": 0.0,\n",
       "    \"unexpected_percent_nonmissing\": 0.0\n",
       "  },\n",
       "  \"meta\": {},\n",
       "  \"exception_info\": {\n",
       "    \"raised_exception\": false,\n",
       "    \"exception_traceback\": null,\n",
       "    \"exception_message\": null\n",
       "  }\n",
       "}"
      ]
     },
     "execution_count": 62,
     "metadata": {},
     "output_type": "execute_result"
    }
   ],
   "source": [
    "validator.expect_column_values_to_be_in_set(\n",
    "    \"Education\",\n",
    "    [\"Basic\", \"2n Cycle\", \"Graduation\", \"Master\", \"PhD\"]\n",
    ")"
   ]
  },
  {
   "cell_type": "markdown",
   "id": "61620496-1d09-4393-89c6-d34355770b15",
   "metadata": {},
   "source": [
    "6. Expectation : Income minimal 0 (tidak boleh negatif)"
   ]
  },
  {
   "cell_type": "code",
   "execution_count": 63,
   "id": "635dd471-1593-496e-bb6e-24edb0de4649",
   "metadata": {},
   "outputs": [
    {
     "name": "stderr",
     "output_type": "stream",
     "text": [
      "WARNING:py.warnings:/opt/conda/lib/python3.13/site-packages/great_expectations/expectations/expectation.py:1518: UserWarning: `result_format` configured at the Validator-level will not be persisted. Please add the configuration to your Checkpoint config or checkpoint_run() method instead.\n",
      "  warnings.warn(\n",
      "\n"
     ]
    },
    {
     "data": {
      "application/vnd.jupyter.widget-view+json": {
       "model_id": "f97ea2be2e834f59ba607b3f365fbe73",
       "version_major": 2,
       "version_minor": 0
      },
      "text/plain": [
       "Calculating Metrics:   0%|          | 0/8 [00:00<?, ?it/s]"
      ]
     },
     "metadata": {},
     "output_type": "display_data"
    },
    {
     "data": {
      "text/plain": [
       "{\n",
       "  \"success\": true,\n",
       "  \"result\": {\n",
       "    \"element_count\": 2240,\n",
       "    \"unexpected_count\": 0,\n",
       "    \"unexpected_percent\": 0.0,\n",
       "    \"partial_unexpected_list\": [],\n",
       "    \"missing_count\": 24,\n",
       "    \"missing_percent\": 1.0714285714285714,\n",
       "    \"unexpected_percent_total\": 0.0,\n",
       "    \"unexpected_percent_nonmissing\": 0.0\n",
       "  },\n",
       "  \"meta\": {},\n",
       "  \"exception_info\": {\n",
       "    \"raised_exception\": false,\n",
       "    \"exception_traceback\": null,\n",
       "    \"exception_message\": null\n",
       "  }\n",
       "}"
      ]
     },
     "execution_count": 63,
     "metadata": {},
     "output_type": "execute_result"
    }
   ],
   "source": [
    "validator.expect_column_values_to_be_between(\"Income\", min_value=0, max_value=1000000)"
   ]
  },
  {
   "cell_type": "markdown",
   "id": "cccd1da9-78c6-4335-8364-8314e57f31bf",
   "metadata": {},
   "source": [
    "7. Expectation : Kolom age harus dipastikan exist"
   ]
  },
  {
   "cell_type": "code",
   "execution_count": 21,
   "id": "d5ac4ac2-6f35-42dc-9d94-01eed2d18e82",
   "metadata": {},
   "outputs": [
    {
     "data": {
      "text/plain": [
       "{\n",
       "  \"success\": true,\n",
       "  \"result\": {},\n",
       "  \"meta\": {},\n",
       "  \"exception_info\": {\n",
       "    \"raised_exception\": false,\n",
       "    \"exception_traceback\": null,\n",
       "    \"exception_message\": null\n",
       "  }\n",
       "}"
      ]
     },
     "execution_count": 21,
     "metadata": {},
     "output_type": "execute_result"
    }
   ],
   "source": [
    "validator.expect_column_to_exist(column='Age')"
   ]
  },
  {
   "cell_type": "code",
   "execution_count": 65,
   "id": "891054b3-bb02-495e-92ec-80649c09f943",
   "metadata": {},
   "outputs": [],
   "source": [
    "# Save into Expectation Suite\n",
    "\n",
    "validator.save_expectation_suite(discard_failed_expectations=False)"
   ]
  },
  {
   "cell_type": "markdown",
   "id": "cf4fb1bc-4c53-4730-82ca-f352b590dde0",
   "metadata": {},
   "source": [
    "CHECKPOINT"
   ]
  },
  {
   "cell_type": "code",
   "execution_count": 66,
   "id": "8fec41f1-b480-492b-a7f3-69cae5576b1e",
   "metadata": {},
   "outputs": [],
   "source": [
    "checkpoint_1 = context.add_or_update_checkpoint(\n",
    "    name='checkpoint_superstore',\n",
    "    validator=validator,\n",
    ")\n"
   ]
  },
  {
   "cell_type": "code",
   "execution_count": 67,
   "id": "a46cf460-8c6b-4072-83f2-da16b11c3a18",
   "metadata": {},
   "outputs": [
    {
     "data": {
      "application/vnd.jupyter.widget-view+json": {
       "model_id": "1f9ccd49f2c241f184dbddaa4ac02c31",
       "version_major": 2,
       "version_minor": 0
      },
      "text/plain": [
       "Calculating Metrics:   0%|          | 0/37 [00:00<?, ?it/s]"
      ]
     },
     "metadata": {},
     "output_type": "display_data"
    }
   ],
   "source": [
    "checkpoint_result = checkpoint_1.run()"
   ]
  },
  {
   "cell_type": "markdown",
   "id": "26face11-95e6-4d39-8e12-e90b1d385f21",
   "metadata": {},
   "source": [
    "DATA DOCS"
   ]
  },
  {
   "cell_type": "code",
   "execution_count": 68,
   "id": "77e3ca15-3666-491e-913f-27e7763e7fed",
   "metadata": {},
   "outputs": [
    {
     "data": {
      "text/plain": [
       "{'local_site': 'file:///home/jovyan/gx/uncommitted/data_docs/local_site/index.html'}"
      ]
     },
     "execution_count": 68,
     "metadata": {},
     "output_type": "execute_result"
    }
   ],
   "source": [
    "# Build data docs\n",
    "\n",
    "context.build_data_docs()"
   ]
  },
  {
   "cell_type": "markdown",
   "id": "c0a42781",
   "metadata": {},
   "source": [
    "## **KEY TAKEAWAYS**\n",
    "\n",
    "1. **Reliable Pipeline** – ETL yang otomatis memastikan data selalu diextract, transform, validate, dan load dengan konsisten tanpa manual intervention, sehingga error dan delay bisa diminimalisir.  \n",
    "\n",
    "2. **Data Quality** – Dengan Great Expectations, data types, ranges, dan categories bisa divalidasi, sehingga segmentation lebih akurat, feature engineering lebih reliable, dan customer response analysis tetap konsisten.  \n",
    "\n",
    "3. **Scalable Process** – Pipeline otomatis untuk transformation dan loading mampu handle dataset yang terus bertambah seiring growth customer base, tanpa mengorbankan performance maupun accuracy.  \n",
    "\n",
    "4. **Customer Insights** – Feature hasil transform (contoh: age) membuat segmentation lebih presisi dan prediction terhadap response customer lebih baik.  \n"
   ]
  }
 ],
 "metadata": {
  "kernelspec": {
   "display_name": "Python 3 (ipykernel)",
   "language": "python",
   "name": "python3"
  },
  "language_info": {
   "codemirror_mode": {
    "name": "ipython",
    "version": 3
   },
   "file_extension": ".py",
   "mimetype": "text/x-python",
   "name": "python",
   "nbconvert_exporter": "python",
   "pygments_lexer": "ipython3",
   "version": "3.13.5"
  }
 },
 "nbformat": 4,
 "nbformat_minor": 5
}
